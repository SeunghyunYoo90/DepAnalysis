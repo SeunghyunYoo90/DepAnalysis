{
  "nbformat": 4,
  "nbformat_minor": 0,
  "metadata": {
    "kernelspec": {
      "display_name": "Python 3",
      "language": "python",
      "name": "python3"
    },
    "language_info": {
      "codemirror_mode": {
        "name": "ipython",
        "version": 3
      },
      "file_extension": ".py",
      "mimetype": "text/x-python",
      "name": "python",
      "nbconvert_exporter": "python",
      "pygments_lexer": "ipython3",
      "version": "3.6.9"
    },
    "colab": {
      "name": "depression_preprocessing.ipynb",
      "provenance": [],
      "include_colab_link": true
    }
  },
  "cells": [
    {
      "cell_type": "markdown",
      "metadata": {
        "id": "view-in-github",
        "colab_type": "text"
      },
      "source": [
        "<a href=\"https://colab.research.google.com/github/SeunghyunYoo90/DepAnalysis/blob/master/depression_preprocessing.ipynb\" target=\"_parent\"><img src=\"https://colab.research.google.com/assets/colab-badge.svg\" alt=\"Open In Colab\"/></a>"
      ]
    },
    {
      "cell_type": "code",
      "metadata": {
        "id": "Qb9fgzLOrmHQ",
        "colab_type": "code",
        "colab": {}
      },
      "source": [
        "import pandas as pd, pickle, re\n",
        "from konlpy.tag import Okt\n",
        "from tensorflow.keras.preprocessing.text import Tokenizer\n",
        "from tensorflow.keras.preprocessing.sequence import pad_sequences\n",
        "import tensorflow as tf\n",
        "from sklearn.model_selection import train_test_split"
      ],
      "execution_count": 0,
      "outputs": []
    },
    {
      "cell_type": "code",
      "metadata": {
        "id": "cXbicbVkrmHT",
        "colab_type": "code",
        "colab": {}
      },
      "source": [
        "import numpy as np"
      ],
      "execution_count": 0,
      "outputs": []
    },
    {
      "cell_type": "code",
      "metadata": {
        "id": "lvggrO-CrmHW",
        "colab_type": "code",
        "colab": {}
      },
      "source": [
        "import matplotlib.pyplot as plt"
      ],
      "execution_count": 0,
      "outputs": []
    },
    {
      "cell_type": "markdown",
      "metadata": {
        "id": "XpaHJRcrrmHY",
        "colab_type": "text"
      },
      "source": [
        "## 일반 카페 글"
      ]
    },
    {
      "cell_type": "code",
      "metadata": {
        "id": "Asp3LWgmrmHZ",
        "colab_type": "code",
        "colab": {}
      },
      "source": [
        "# 나머지 카페 글 불러오기\n",
        "df1 = pd.read_csv('depression_book.csv') # 책읽기 카페\n",
        "df2 = pd.read_csv('depression_girl.csv') # 연애 카페\n",
        "df3 = pd.read_csv('spec_up_2000.csv') # 스펙업\n",
        "df4 = pd.read_csv('munhwa_2000.csv') # 문화\n",
        "df5 = pd.read_csv('powder_2000.csv') # 파우더룸\n",
        "df6 = pd.read_csv('story.csv') # 자기계발\n",
        "df7 = pd.read_csv('write.csv') # 글쓰기\n",
        "df8 = pd.read_csv('eat.csv') # 먹방\n",
        "df10 = pd.read_csv('ebook.csv') # 이북\n",
        "df11 = pd.read_csv('story_2.csv') # 자기계발2\n",
        "df12 = pd.read_csv('fun.csv') # 유머카페\n",
        "df13 = pd.read_csv('brunch.csv') # 브런치"
      ],
      "execution_count": 0,
      "outputs": []
    },
    {
      "cell_type": "code",
      "metadata": {
        "id": "A8FjT_bVrmHb",
        "colab_type": "code",
        "colab": {}
      },
      "source": [
        "# null값 제거\n",
        "df1 = df1.dropna(axis=0)\n",
        "df2 = df2.dropna(axis=0)\n",
        "df3 = df3.dropna(axis=0)\n",
        "df4 = df4.dropna(axis=0)\n",
        "df5 = df5.dropna(axis=0)\n",
        "df6 = df6.dropna(axis=0)\n",
        "df7 = df7.dropna(axis=0)\n",
        "df8 = df8.dropna(axis=0)\n",
        "df10 = df10.dropna(axis=0)\n",
        "df11 = df11.dropna(axis=0)\n",
        "df12 = df12.dropna(axis=0)\n",
        "df13 = df13.dropna(axis=0)"
      ],
      "execution_count": 0,
      "outputs": []
    },
    {
      "cell_type": "code",
      "metadata": {
        "id": "5jEQiuNnrmHd",
        "colab_type": "code",
        "colab": {}
      },
      "source": [
        "# 데이터 프레임 내 a 없애기\n",
        "def rem(a,df):\n",
        "    col = list(df.columns)\n",
        "    for i in col:\n",
        "        df[i] = df[i].apply(lambda x: re.sub(a,'',x))\n",
        "    return df"
      ],
      "execution_count": 0,
      "outputs": []
    },
    {
      "cell_type": "code",
      "metadata": {
        "id": "nhZq65hlrmHf",
        "colab_type": "code",
        "colab": {}
      },
      "source": [
        "# 광고 올리는 아이디 제거\n",
        "def bad_del(df4):\n",
        "    bad = []\n",
        "    for i in list(df4.index):\n",
        "        if 'http' in df4.content.loc[i]:\n",
        "            bad.append(df4.name.loc[i])\n",
        "    for i in df4['name']:\n",
        "        if i in bad:\n",
        "            df4 = df4[df4['name']!=i]\n",
        "    return df4"
      ],
      "execution_count": 0,
      "outputs": []
    },
    {
      "cell_type": "code",
      "metadata": {
        "id": "ID1701VQrmHi",
        "colab_type": "code",
        "colab": {}
      },
      "source": [
        "# 키워드 포함 열 제거\n",
        "def key_del(a,df4):\n",
        "    bad = []\n",
        "    for i in list(df4.index):\n",
        "        if a in df4.content.loc[i]:\n",
        "            bad.append(i)\n",
        "    df4 = df4.drop(bad, axis = 0)\n",
        "    return df4"
      ],
      "execution_count": 0,
      "outputs": []
    },
    {
      "cell_type": "code",
      "metadata": {
        "scrolled": true,
        "id": "8JWM44thrmHk",
        "colab_type": "code",
        "colab": {},
        "outputId": "d5c4b14c-5538-4cf5-b7b6-c6014b17f3ca"
      },
      "source": [
        "len(df1),len(df2),len(df3),len(df4),len(df5),len(df6),len(df7),len(df8),len(df10),len(df11),len(df12),len(df13)"
      ],
      "execution_count": 0,
      "outputs": [
        {
          "output_type": "execute_result",
          "data": {
            "text/plain": [
              "(1278, 493, 1968, 1988, 1987, 815, 220, 129, 120, 1712, 1477, 672)"
            ]
          },
          "metadata": {
            "tags": []
          },
          "execution_count": 9
        }
      ]
    },
    {
      "cell_type": "code",
      "metadata": {
        "id": "TSVcul9wrmHn",
        "colab_type": "code",
        "colab": {},
        "outputId": "7cd08da1-fc9a-4bba-ed72-4394f359cbef"
      },
      "source": [
        "# 데이터 프레임 전부 다 합치기\n",
        "df9 = pd.concat([df1['content'], df2['content'], df3['content'], df4['content'], df11['content'],\n",
        "                 df5['content'], df6['content'], df7['content'], df8['content'], df10['content'],\n",
        "                df12['content'], df13['content']],axis = 0)\n",
        "df9 = pd.DataFrame(df9).reset_index(drop=True)\n",
        "df9 = df9.rename(columns={0 :'content'})\n",
        "df9"
      ],
      "execution_count": 0,
      "outputs": [
        {
          "output_type": "execute_result",
          "data": {
            "text/html": [
              "<div>\n",
              "<style scoped>\n",
              "    .dataframe tbody tr th:only-of-type {\n",
              "        vertical-align: middle;\n",
              "    }\n",
              "\n",
              "    .dataframe tbody tr th {\n",
              "        vertical-align: top;\n",
              "    }\n",
              "\n",
              "    .dataframe thead th {\n",
              "        text-align: right;\n",
              "    }\n",
              "</style>\n",
              "<table border=\"1\" class=\"dataframe\">\n",
              "  <thead>\n",
              "    <tr style=\"text-align: right;\">\n",
              "      <th></th>\n",
              "      <th>content</th>\n",
              "    </tr>\n",
              "  </thead>\n",
              "  <tbody>\n",
              "    <tr>\n",
              "      <td>0</td>\n",
              "      <td>만두를 먹을수있어서 감사합니다</td>\n",
              "    </tr>\n",
              "    <tr>\n",
              "      <td>1</td>\n",
              "      <td>내 맘에 들지 않는 사람을 쳐냈었는데 처음으로 손을 내밀어봤습니다. 그 손을 잡아주...</td>\n",
              "    </tr>\n",
              "    <tr>\n",
              "      <td>2</td>\n",
              "      <td>버스를탈수있어서 감사합니다</td>\n",
              "    </tr>\n",
              "    <tr>\n",
              "      <td>3</td>\n",
              "      <td>삶이 무료해지고 이제 또 즐거운 무언가를 찾고 있었습니다. 또 의미없이 시간 보내는...</td>\n",
              "    </tr>\n",
              "    <tr>\n",
              "      <td>4</td>\n",
              "      <td>붓다의 유언을 읽을 수 있어서 감사했습니다.. “제행이 무상하니, 방일하지 말고 정...</td>\n",
              "    </tr>\n",
              "    <tr>\n",
              "      <td>...</td>\n",
              "      <td>...</td>\n",
              "    </tr>\n",
              "    <tr>\n",
              "      <td>12854</td>\n",
              "      <td>(직장인들은 공감할 수 있을 것 같은데) 요즘 나에게하루 중 가장 길게 느껴지는 시...</td>\n",
              "    </tr>\n",
              "    <tr>\n",
              "      <td>12855</td>\n",
              "      <td>오랜 시간 동안 네이버 블로그에 글을 적어왔다.일본에서 살기 전에는 일본 여행 관련...</td>\n",
              "    </tr>\n",
              "    <tr>\n",
              "      <td>12856</td>\n",
              "      <td>토요일 아침. 사람들이 주말을 시작하는 풍경은 어떨까? 밀린 늦잠을 자는 사람들도,...</td>\n",
              "    </tr>\n",
              "    <tr>\n",
              "      <td>12857</td>\n",
              "      <td>벌써 르완다 생활이 1년 하고도 5개월.왠지 1년 차는 예전에 지나간 느낌인데 아직...</td>\n",
              "    </tr>\n",
              "    <tr>\n",
              "      <td>12858</td>\n",
              "      <td>원래 다이어리 쓰는 것을 좋아했다. 연말이 되면 의지가 흐릿해졌지만 그래도 매년 다...</td>\n",
              "    </tr>\n",
              "  </tbody>\n",
              "</table>\n",
              "<p>12859 rows × 1 columns</p>\n",
              "</div>"
            ],
            "text/plain": [
              "                                                 content\n",
              "0                                       만두를 먹을수있어서 감사합니다\n",
              "1      내 맘에 들지 않는 사람을 쳐냈었는데 처음으로 손을 내밀어봤습니다. 그 손을 잡아주...\n",
              "2                                         버스를탈수있어서 감사합니다\n",
              "3      삶이 무료해지고 이제 또 즐거운 무언가를 찾고 있었습니다. 또 의미없이 시간 보내는...\n",
              "4      붓다의 유언을 읽을 수 있어서 감사했습니다.. “제행이 무상하니, 방일하지 말고 정...\n",
              "...                                                  ...\n",
              "12854  (직장인들은 공감할 수 있을 것 같은데) 요즘 나에게하루 중 가장 길게 느껴지는 시...\n",
              "12855  오랜 시간 동안 네이버 블로그에 글을 적어왔다.일본에서 살기 전에는 일본 여행 관련...\n",
              "12856  토요일 아침. 사람들이 주말을 시작하는 풍경은 어떨까? 밀린 늦잠을 자는 사람들도,...\n",
              "12857  벌써 르완다 생활이 1년 하고도 5개월.왠지 1년 차는 예전에 지나간 느낌인데 아직...\n",
              "12858  원래 다이어리 쓰는 것을 좋아했다. 연말이 되면 의지가 흐릿해졌지만 그래도 매년 다...\n",
              "\n",
              "[12859 rows x 1 columns]"
            ]
          },
          "metadata": {
            "tags": []
          },
          "execution_count": 27
        }
      ]
    },
    {
      "cell_type": "code",
      "metadata": {
        "scrolled": true,
        "id": "6mYFgEhirmHp",
        "colab_type": "code",
        "colab": {},
        "outputId": "66c511ed-5f0f-4547-d618-bee53eaf9e5b"
      },
      "source": [
        "#띄어쓰기 제거\n",
        "def rem(a,df):\n",
        "    col = list(df.columns)\n",
        "    for i in col:\n",
        "        df[i] = df[i].apply(lambda x: re.sub(a,'',x))\n",
        "    return df\n",
        "rem(' ',df9)"
      ],
      "execution_count": 0,
      "outputs": [
        {
          "output_type": "execute_result",
          "data": {
            "text/html": [
              "<div>\n",
              "<style scoped>\n",
              "    .dataframe tbody tr th:only-of-type {\n",
              "        vertical-align: middle;\n",
              "    }\n",
              "\n",
              "    .dataframe tbody tr th {\n",
              "        vertical-align: top;\n",
              "    }\n",
              "\n",
              "    .dataframe thead th {\n",
              "        text-align: right;\n",
              "    }\n",
              "</style>\n",
              "<table border=\"1\" class=\"dataframe\">\n",
              "  <thead>\n",
              "    <tr style=\"text-align: right;\">\n",
              "      <th></th>\n",
              "      <th>content</th>\n",
              "    </tr>\n",
              "  </thead>\n",
              "  <tbody>\n",
              "    <tr>\n",
              "      <td>0</td>\n",
              "      <td>만두를먹을수있어서감사합니다</td>\n",
              "    </tr>\n",
              "    <tr>\n",
              "      <td>1</td>\n",
              "      <td>내맘에들지않는사람을쳐냈었는데처음으로손을내밀어봤습니다.그손을잡아주어서감사합니다.자존심...</td>\n",
              "    </tr>\n",
              "    <tr>\n",
              "      <td>2</td>\n",
              "      <td>버스를탈수있어서감사합니다</td>\n",
              "    </tr>\n",
              "    <tr>\n",
              "      <td>3</td>\n",
              "      <td>삶이무료해지고이제또즐거운무언가를찾고있었습니다.또의미없이시간보내는일을찾을수도있었는데좋...</td>\n",
              "    </tr>\n",
              "    <tr>\n",
              "      <td>4</td>\n",
              "      <td>붓다의유언을읽을수있어서감사했습니다..“제행이무상하니,방일하지말고정진하라\"</td>\n",
              "    </tr>\n",
              "    <tr>\n",
              "      <td>...</td>\n",
              "      <td>...</td>\n",
              "    </tr>\n",
              "    <tr>\n",
              "      <td>12854</td>\n",
              "      <td>(직장인들은공감할수있을것같은데)요즘나에게하루중가장길게느껴지는시간은출퇴근시간이다.매일...</td>\n",
              "    </tr>\n",
              "    <tr>\n",
              "      <td>12855</td>\n",
              "      <td>오랜시간동안네이버블로그에글을적어왔다.일본에서살기전에는일본여행관련으로적기시작하다가일본...</td>\n",
              "    </tr>\n",
              "    <tr>\n",
              "      <td>12856</td>\n",
              "      <td>토요일아침.사람들이주말을시작하는풍경은어떨까?밀린늦잠을자는사람들도,벌써하루를준비해나가...</td>\n",
              "    </tr>\n",
              "    <tr>\n",
              "      <td>12857</td>\n",
              "      <td>벌써르완다생활이1년하고도5개월.왠지1년차는예전에지나간느낌인데아직1년6개월이채되지않았...</td>\n",
              "    </tr>\n",
              "    <tr>\n",
              "      <td>12858</td>\n",
              "      <td>원래다이어리쓰는것을좋아했다.연말이되면의지가흐릿해졌지만그래도매년다이어를써왔다.근데스위...</td>\n",
              "    </tr>\n",
              "  </tbody>\n",
              "</table>\n",
              "<p>12859 rows × 1 columns</p>\n",
              "</div>"
            ],
            "text/plain": [
              "                                                 content\n",
              "0                                         만두를먹을수있어서감사합니다\n",
              "1      내맘에들지않는사람을쳐냈었는데처음으로손을내밀어봤습니다.그손을잡아주어서감사합니다.자존심...\n",
              "2                                          버스를탈수있어서감사합니다\n",
              "3      삶이무료해지고이제또즐거운무언가를찾고있었습니다.또의미없이시간보내는일을찾을수도있었는데좋...\n",
              "4               붓다의유언을읽을수있어서감사했습니다..“제행이무상하니,방일하지말고정진하라\"\n",
              "...                                                  ...\n",
              "12854  (직장인들은공감할수있을것같은데)요즘나에게하루중가장길게느껴지는시간은출퇴근시간이다.매일...\n",
              "12855  오랜시간동안네이버블로그에글을적어왔다.일본에서살기전에는일본여행관련으로적기시작하다가일본...\n",
              "12856  토요일아침.사람들이주말을시작하는풍경은어떨까?밀린늦잠을자는사람들도,벌써하루를준비해나가...\n",
              "12857  벌써르완다생활이1년하고도5개월.왠지1년차는예전에지나간느낌인데아직1년6개월이채되지않았...\n",
              "12858  원래다이어리쓰는것을좋아했다.연말이되면의지가흐릿해졌지만그래도매년다이어를써왔다.근데스위...\n",
              "\n",
              "[12859 rows x 1 columns]"
            ]
          },
          "metadata": {
            "tags": []
          },
          "execution_count": 28
        }
      ]
    },
    {
      "cell_type": "code",
      "metadata": {
        "id": "G1B32DpgrmHr",
        "colab_type": "code",
        "colab": {}
      },
      "source": [
        "# 말줄임표 처리\n",
        "\n",
        "list_dot = ['.'*i for i in range(12, 1, -1)]\n",
        "\n",
        "def short_1(a,df):\n",
        "    col = list(df.columns)\n",
        "    for i in col:\n",
        "        df[i] = df[i].apply(lambda x: x.replace(a,'말줄임표'))\n",
        "    return df\n",
        "\n",
        "def short(df):\n",
        "    for a in list_dot:\n",
        "        short_1(a,df)\n",
        "    return df"
      ],
      "execution_count": 0,
      "outputs": []
    },
    {
      "cell_type": "code",
      "metadata": {
        "scrolled": true,
        "id": "oCG7ACfXrmHt",
        "colab_type": "code",
        "colab": {},
        "outputId": "3c85dc2e-04fa-4044-81c9-ffa7e25f6ee8"
      },
      "source": [
        "short(df9)"
      ],
      "execution_count": 0,
      "outputs": [
        {
          "output_type": "execute_result",
          "data": {
            "text/html": [
              "<div>\n",
              "<style scoped>\n",
              "    .dataframe tbody tr th:only-of-type {\n",
              "        vertical-align: middle;\n",
              "    }\n",
              "\n",
              "    .dataframe tbody tr th {\n",
              "        vertical-align: top;\n",
              "    }\n",
              "\n",
              "    .dataframe thead th {\n",
              "        text-align: right;\n",
              "    }\n",
              "</style>\n",
              "<table border=\"1\" class=\"dataframe\">\n",
              "  <thead>\n",
              "    <tr style=\"text-align: right;\">\n",
              "      <th></th>\n",
              "      <th>content</th>\n",
              "    </tr>\n",
              "  </thead>\n",
              "  <tbody>\n",
              "    <tr>\n",
              "      <td>0</td>\n",
              "      <td>만두를먹을수있어서감사합니다</td>\n",
              "    </tr>\n",
              "    <tr>\n",
              "      <td>1</td>\n",
              "      <td>내맘에들지않는사람을쳐냈었는데처음으로손을내밀어봤습니다.그손을잡아주어서감사합니다.자존심...</td>\n",
              "    </tr>\n",
              "    <tr>\n",
              "      <td>2</td>\n",
              "      <td>버스를탈수있어서감사합니다</td>\n",
              "    </tr>\n",
              "    <tr>\n",
              "      <td>3</td>\n",
              "      <td>삶이무료해지고이제또즐거운무언가를찾고있었습니다.또의미없이시간보내는일을찾을수도있었는데좋...</td>\n",
              "    </tr>\n",
              "    <tr>\n",
              "      <td>4</td>\n",
              "      <td>붓다의유언을읽을수있어서감사했습니다말줄임표“제행이무상하니,방일하지말고정진하라\"</td>\n",
              "    </tr>\n",
              "    <tr>\n",
              "      <td>...</td>\n",
              "      <td>...</td>\n",
              "    </tr>\n",
              "    <tr>\n",
              "      <td>12854</td>\n",
              "      <td>(직장인들은공감할수있을것같은데)요즘나에게하루중가장길게느껴지는시간은출퇴근시간이다.매일...</td>\n",
              "    </tr>\n",
              "    <tr>\n",
              "      <td>12855</td>\n",
              "      <td>오랜시간동안네이버블로그에글을적어왔다.일본에서살기전에는일본여행관련으로적기시작하다가일본...</td>\n",
              "    </tr>\n",
              "    <tr>\n",
              "      <td>12856</td>\n",
              "      <td>토요일아침.사람들이주말을시작하는풍경은어떨까?밀린늦잠을자는사람들도,벌써하루를준비해나가...</td>\n",
              "    </tr>\n",
              "    <tr>\n",
              "      <td>12857</td>\n",
              "      <td>벌써르완다생활이1년하고도5개월.왠지1년차는예전에지나간느낌인데아직1년6개월이채되지않았...</td>\n",
              "    </tr>\n",
              "    <tr>\n",
              "      <td>12858</td>\n",
              "      <td>원래다이어리쓰는것을좋아했다.연말이되면의지가흐릿해졌지만그래도매년다이어를써왔다.근데스위...</td>\n",
              "    </tr>\n",
              "  </tbody>\n",
              "</table>\n",
              "<p>12859 rows × 1 columns</p>\n",
              "</div>"
            ],
            "text/plain": [
              "                                                 content\n",
              "0                                         만두를먹을수있어서감사합니다\n",
              "1      내맘에들지않는사람을쳐냈었는데처음으로손을내밀어봤습니다.그손을잡아주어서감사합니다.자존심...\n",
              "2                                          버스를탈수있어서감사합니다\n",
              "3      삶이무료해지고이제또즐거운무언가를찾고있었습니다.또의미없이시간보내는일을찾을수도있었는데좋...\n",
              "4             붓다의유언을읽을수있어서감사했습니다말줄임표“제행이무상하니,방일하지말고정진하라\"\n",
              "...                                                  ...\n",
              "12854  (직장인들은공감할수있을것같은데)요즘나에게하루중가장길게느껴지는시간은출퇴근시간이다.매일...\n",
              "12855  오랜시간동안네이버블로그에글을적어왔다.일본에서살기전에는일본여행관련으로적기시작하다가일본...\n",
              "12856  토요일아침.사람들이주말을시작하는풍경은어떨까?밀린늦잠을자는사람들도,벌써하루를준비해나가...\n",
              "12857  벌써르완다생활이1년하고도5개월.왠지1년차는예전에지나간느낌인데아직1년6개월이채되지않았...\n",
              "12858  원래다이어리쓰는것을좋아했다.연말이되면의지가흐릿해졌지만그래도매년다이어를써왔다.근데스위...\n",
              "\n",
              "[12859 rows x 1 columns]"
            ]
          },
          "metadata": {
            "tags": []
          },
          "execution_count": 29
        }
      ]
    },
    {
      "cell_type": "code",
      "metadata": {
        "id": "XxK16jPWrmHw",
        "colab_type": "code",
        "colab": {}
      },
      "source": [
        "#리스트로 바꾸기\n",
        "content=[df9['content'].loc[i] for i in df9.index]"
      ],
      "execution_count": 0,
      "outputs": []
    },
    {
      "cell_type": "code",
      "metadata": {
        "id": "pUdCgu_TrmHy",
        "colab_type": "code",
        "colab": {},
        "outputId": "f9ab4ea3-d5f2-4385-92f6-7457bb44c237"
      },
      "source": [
        "len(content)"
      ],
      "execution_count": 0,
      "outputs": [
        {
          "output_type": "execute_result",
          "data": {
            "text/plain": [
              "12859"
            ]
          },
          "metadata": {
            "tags": []
          },
          "execution_count": 31
        }
      ]
    },
    {
      "cell_type": "code",
      "metadata": {
        "id": "eMEnXd_BrmH0",
        "colab_type": "code",
        "colab": {}
      },
      "source": [
        "# 이상한거 없애기\n",
        "for i in range(len(content)):\n",
        "    if '\\xa0' in content[i]:\n",
        "        content[i] = content[i].replace('\\xa0','')\n",
        "\n",
        "for i in range(len(content)):\n",
        "    if '\\n' in content[i]:\n",
        "        content[i] = content[i].replace('\\n','')\n",
        "\n",
        "for i in range(len(content)):\n",
        "    if '\\t' in content[i]:\n",
        "        content[i] = content[i].replace('\\t','')"
      ],
      "execution_count": 0,
      "outputs": []
    },
    {
      "cell_type": "code",
      "metadata": {
        "id": "gxEj-0QyrmH2",
        "colab_type": "code",
        "colab": {}
      },
      "source": [
        "# 광고 없애기\n",
        "hmm = ['com/','http','(주)','eft','EFT','①','전화:','<','부탁드립니다', '어플',\n",
        "       '장소:','시간:','/','-','%','@','팝니다','팔아요','[','(']\n",
        "\n",
        "for i in hmm:\n",
        "    for con in content:\n",
        "        if i in con:\n",
        "            content.remove(con)"
      ],
      "execution_count": 0,
      "outputs": []
    },
    {
      "cell_type": "code",
      "metadata": {
        "id": "SFBxXlrormH4",
        "colab_type": "code",
        "colab": {},
        "outputId": "80def7d0-c14b-4750-e2ef-b4dc216e93db"
      },
      "source": [
        "# 중복된 문장 제거\n",
        "content = set(content)\n",
        "content = list(content)\n",
        "len(content)"
      ],
      "execution_count": 0,
      "outputs": [
        {
          "output_type": "execute_result",
          "data": {
            "text/plain": [
              "8833"
            ]
          },
          "metadata": {
            "tags": []
          },
          "execution_count": 34
        }
      ]
    },
    {
      "cell_type": "code",
      "metadata": {
        "id": "XOVZBvDVrmH7",
        "colab_type": "code",
        "colab": {},
        "outputId": "cda26b14-e5cf-41ba-e080-92ca70fddb48"
      },
      "source": [
        "df9 = pd.DataFrame(content, columns=['content'])\n",
        "\n",
        "# 0글자 이하 없애기\n",
        "df9['len']=df9.content.apply(lambda x: len(x))\n",
        "df9 = df9[df9['len']>0]\n",
        "\n",
        "df9.head(5)"
      ],
      "execution_count": 0,
      "outputs": [
        {
          "output_type": "execute_result",
          "data": {
            "text/html": [
              "<div>\n",
              "<style scoped>\n",
              "    .dataframe tbody tr th:only-of-type {\n",
              "        vertical-align: middle;\n",
              "    }\n",
              "\n",
              "    .dataframe tbody tr th {\n",
              "        vertical-align: top;\n",
              "    }\n",
              "\n",
              "    .dataframe thead th {\n",
              "        text-align: right;\n",
              "    }\n",
              "</style>\n",
              "<table border=\"1\" class=\"dataframe\">\n",
              "  <thead>\n",
              "    <tr style=\"text-align: right;\">\n",
              "      <th></th>\n",
              "      <th>content</th>\n",
              "      <th>len</th>\n",
              "    </tr>\n",
              "  </thead>\n",
              "  <tbody>\n",
              "    <tr>\n",
              "      <td>1</td>\n",
              "      <td>문화의날이라그런지인기검색어에사자랑엑시트가있네용ㅎㅎㅎㅎ무대인사예매한게둘다날짜가겹치기도...</td>\n",
              "      <td>82</td>\n",
              "    </tr>\n",
              "    <tr>\n",
              "      <td>2</td>\n",
              "      <td>고속버스타고올라가다내린휴게소.구미휴게소인데휴게소내에요런시설도있네요ㅎㅎ</td>\n",
              "      <td>38</td>\n",
              "    </tr>\n",
              "    <tr>\n",
              "      <td>3</td>\n",
              "      <td>1일부터월요일이면.그달이정~말길게느껴지더라고요.특히7월처럼31일이나되면서새까만달은.최악</td>\n",
              "      <td>48</td>\n",
              "    </tr>\n",
              "    <tr>\n",
              "      <td>4</td>\n",
              "      <td>저는노포를정말좋아하는데그이유는첫번째오래된집은맛에서실패할확률이적고두번째로는그세월이주는...</td>\n",
              "      <td>142</td>\n",
              "    </tr>\n",
              "    <tr>\n",
              "      <td>5</td>\n",
              "      <td>이시간전남비바람이몰아칩니다.ㅋㅋ.......낼일있는데..시끄러워서잠도안오고...아침...</td>\n",
              "      <td>61</td>\n",
              "    </tr>\n",
              "  </tbody>\n",
              "</table>\n",
              "</div>"
            ],
            "text/plain": [
              "                                             content  len\n",
              "1  문화의날이라그런지인기검색어에사자랑엑시트가있네용ㅎㅎㅎㅎ무대인사예매한게둘다날짜가겹치기도...   82\n",
              "2             고속버스타고올라가다내린휴게소.구미휴게소인데휴게소내에요런시설도있네요ㅎㅎ   38\n",
              "3   1일부터월요일이면.그달이정~말길게느껴지더라고요.특히7월처럼31일이나되면서새까만달은.최악   48\n",
              "4  저는노포를정말좋아하는데그이유는첫번째오래된집은맛에서실패할확률이적고두번째로는그세월이주는...  142\n",
              "5  이시간전남비바람이몰아칩니다.ㅋㅋ.......낼일있는데..시끄러워서잠도안오고...아침...   61"
            ]
          },
          "metadata": {
            "tags": []
          },
          "execution_count": 36
        }
      ]
    },
    {
      "cell_type": "code",
      "metadata": {
        "id": "iegzRYOQrmH9",
        "colab_type": "code",
        "colab": {},
        "outputId": "6fbe69c6-c2a6-4a72-f47f-80467470c72f"
      },
      "source": [
        "len(df9)"
      ],
      "execution_count": 0,
      "outputs": [
        {
          "output_type": "execute_result",
          "data": {
            "text/plain": [
              "8832"
            ]
          },
          "metadata": {
            "tags": []
          },
          "execution_count": 37
        }
      ]
    },
    {
      "cell_type": "code",
      "metadata": {
        "id": "WvoWIf7JrmIA",
        "colab_type": "code",
        "colab": {}
      },
      "source": [
        "df9['label']=0"
      ],
      "execution_count": 0,
      "outputs": []
    },
    {
      "cell_type": "code",
      "metadata": {
        "id": "sD1yg4u5rmID",
        "colab_type": "code",
        "colab": {}
      },
      "source": [
        "df9.to_csv('normal.csv',index=False)"
      ],
      "execution_count": 0,
      "outputs": []
    },
    {
      "cell_type": "markdown",
      "metadata": {
        "id": "hYnVNpbFrmIG",
        "colab_type": "text"
      },
      "source": [
        "# 우울증 카페 글"
      ]
    },
    {
      "cell_type": "code",
      "metadata": {
        "id": "mgK-w49ZrmIG",
        "colab_type": "code",
        "colab": {}
      },
      "source": [
        "#우울증 카페 글 불러오기\n",
        "df1 = pd.read_csv('depression_jook.csv') \n",
        "df2 = pd.read_csv('depression_NLP_2.csv') \n",
        "df3 = pd.read_csv('depression__memo.csv') \n",
        "df4 = pd.read_csv('search_naver4.csv') \n",
        "df5 = pd.read_csv('Dep_cafe_crawling_hk.csv') \n",
        "df6 = pd.read_csv('search_naver_2.csv') \n",
        "df7 = pd.read_csv('depression_newlife.csv') \n",
        "df8 = pd.read_csv('depression_newlifememo.csv') \n",
        "df10 = pd.read_csv('depression_feelingdep.csv') \n",
        "df11 = pd.read_csv('depression_depinsomnia.csv') "
      ],
      "execution_count": 0,
      "outputs": []
    },
    {
      "cell_type": "code",
      "metadata": {
        "id": "JHmqkRpPrmII",
        "colab_type": "code",
        "colab": {},
        "outputId": "32b85a55-8306-4015-cd1f-8f96601b74bc"
      },
      "source": [
        "len(set(list(df4['content'])))"
      ],
      "execution_count": 0,
      "outputs": [
        {
          "output_type": "execute_result",
          "data": {
            "text/plain": [
              "1934"
            ]
          },
          "metadata": {
            "tags": []
          },
          "execution_count": 41
        }
      ]
    },
    {
      "cell_type": "code",
      "metadata": {
        "id": "Edjs8X4lrmIN",
        "colab_type": "code",
        "colab": {},
        "outputId": "74f020ab-0ae4-4f15-8cac-704a562f8a91"
      },
      "source": [
        "len(df1),len(df2),len(df3),len(df4),len(df5),len(df6),len(df7),len(df8)"
      ],
      "execution_count": 0,
      "outputs": [
        {
          "output_type": "execute_result",
          "data": {
            "text/plain": [
              "(1613, 616, 1977, 3463, 23928, 726, 7113, 749)"
            ]
          },
          "metadata": {
            "tags": []
          },
          "execution_count": 42
        }
      ]
    },
    {
      "cell_type": "code",
      "metadata": {
        "id": "GprdXC3IrmIQ",
        "colab_type": "code",
        "colab": {},
        "outputId": "151b4f8a-54ed-4365-8c07-03b89d859617"
      },
      "source": [
        "df0 = pd.concat([df1['content'],df2['content'],df3['content'],df4['content'],df10['content'],df11['content'],\n",
        "                 df5['content'],df6['content']],axis=0)\n",
        "df0=df0.dropna()\n",
        "df0 = pd.DataFrame(df0).reset_index(drop=True)\n",
        "df0"
      ],
      "execution_count": 0,
      "outputs": [
        {
          "output_type": "execute_result",
          "data": {
            "text/html": [
              "<div>\n",
              "<style scoped>\n",
              "    .dataframe tbody tr th:only-of-type {\n",
              "        vertical-align: middle;\n",
              "    }\n",
              "\n",
              "    .dataframe tbody tr th {\n",
              "        vertical-align: top;\n",
              "    }\n",
              "\n",
              "    .dataframe thead th {\n",
              "        text-align: right;\n",
              "    }\n",
              "</style>\n",
              "<table border=\"1\" class=\"dataframe\">\n",
              "  <thead>\n",
              "    <tr style=\"text-align: right;\">\n",
              "      <th></th>\n",
              "      <th>content</th>\n",
              "    </tr>\n",
              "  </thead>\n",
              "  <tbody>\n",
              "    <tr>\n",
              "      <td>0</td>\n",
              "      <td>일어나자마자. 살기 싫은 하루.. 이럴줄 알았지만 ㅎㅎ</td>\n",
              "    </tr>\n",
              "    <tr>\n",
              "      <td>1</td>\n",
              "      <td>내가 없어져도 해는 매일 뜨겠죠..</td>\n",
              "    </tr>\n",
              "    <tr>\n",
              "      <td>2</td>\n",
              "      <td>선택의 후회,,</td>\n",
              "    </tr>\n",
              "    <tr>\n",
              "      <td>3</td>\n",
              "      <td>오늘도 살아야하네...에휴...</td>\n",
              "    </tr>\n",
              "    <tr>\n",
              "      <td>4</td>\n",
              "      <td>니가 하고 싶은대로 행동하면난 어쩌란거니?도대체 어느 장단에 마춰야할지 모르겠어.이...</td>\n",
              "    </tr>\n",
              "    <tr>\n",
              "      <td>...</td>\n",
              "      <td>...</td>\n",
              "    </tr>\n",
              "    <tr>\n",
              "      <td>33807</td>\n",
              "      <td>이게 우울증인지 뭔지 모르겠어서,,,, 예전에 상담 클리닉 다니면서 상담도 받았는데...</td>\n",
              "    </tr>\n",
              "    <tr>\n",
              "      <td>33808</td>\n",
              "      <td>안녕하세요 24살 여자입니다 고등학교 졸업 후 바로 부모님회사에서 일을 시작하게 되...</td>\n",
              "    </tr>\n",
              "    <tr>\n",
              "      <td>33809</td>\n",
              "      <td>제 친구가 있는데요.. 친구관계때문에 많이 힘든가봐요수업시간에 공책에 \"우울감=&gt;우...</td>\n",
              "    </tr>\n",
              "    <tr>\n",
              "      <td>33810</td>\n",
              "      <td>제가 우울증이 있는데..답변1글자크기 조절, 질문하기, 답변쓰기 메뉴제가 원래는 누...</td>\n",
              "    </tr>\n",
              "    <tr>\n",
              "      <td>33811</td>\n",
              "      <td>잠을 의지대로 잘 못자고 있어요 그냥 잠만 못자면 다행인데 잠을 못자는 동안 계속 ...</td>\n",
              "    </tr>\n",
              "  </tbody>\n",
              "</table>\n",
              "<p>33812 rows × 1 columns</p>\n",
              "</div>"
            ],
            "text/plain": [
              "                                                 content\n",
              "0                         일어나자마자. 살기 싫은 하루.. 이럴줄 알았지만 ㅎㅎ\n",
              "1                                    내가 없어져도 해는 매일 뜨겠죠..\n",
              "2                                               선택의 후회,,\n",
              "3                                      오늘도 살아야하네...에휴...\n",
              "4      니가 하고 싶은대로 행동하면난 어쩌란거니?도대체 어느 장단에 마춰야할지 모르겠어.이...\n",
              "...                                                  ...\n",
              "33807  이게 우울증인지 뭔지 모르겠어서,,,, 예전에 상담 클리닉 다니면서 상담도 받았는데...\n",
              "33808  안녕하세요 24살 여자입니다 고등학교 졸업 후 바로 부모님회사에서 일을 시작하게 되...\n",
              "33809  제 친구가 있는데요.. 친구관계때문에 많이 힘든가봐요수업시간에 공책에 \"우울감=>우...\n",
              "33810  제가 우울증이 있는데..답변1글자크기 조절, 질문하기, 답변쓰기 메뉴제가 원래는 누...\n",
              "33811  잠을 의지대로 잘 못자고 있어요 그냥 잠만 못자면 다행인데 잠을 못자는 동안 계속 ...\n",
              "\n",
              "[33812 rows x 1 columns]"
            ]
          },
          "metadata": {
            "tags": []
          },
          "execution_count": 53
        }
      ]
    },
    {
      "cell_type": "code",
      "metadata": {
        "scrolled": true,
        "id": "iWHdLbhmrmIR",
        "colab_type": "code",
        "colab": {},
        "outputId": "275ac2f9-a747-4bd9-a9b8-1e66277f9dc0"
      },
      "source": [
        "rem(' ',df0)\n",
        "short(df0)"
      ],
      "execution_count": 0,
      "outputs": [
        {
          "output_type": "execute_result",
          "data": {
            "text/html": [
              "<div>\n",
              "<style scoped>\n",
              "    .dataframe tbody tr th:only-of-type {\n",
              "        vertical-align: middle;\n",
              "    }\n",
              "\n",
              "    .dataframe tbody tr th {\n",
              "        vertical-align: top;\n",
              "    }\n",
              "\n",
              "    .dataframe thead th {\n",
              "        text-align: right;\n",
              "    }\n",
              "</style>\n",
              "<table border=\"1\" class=\"dataframe\">\n",
              "  <thead>\n",
              "    <tr style=\"text-align: right;\">\n",
              "      <th></th>\n",
              "      <th>content</th>\n",
              "    </tr>\n",
              "  </thead>\n",
              "  <tbody>\n",
              "    <tr>\n",
              "      <td>0</td>\n",
              "      <td>일어나자마자.살기싫은하루말줄임표이럴줄알았지만ㅎㅎ</td>\n",
              "    </tr>\n",
              "    <tr>\n",
              "      <td>1</td>\n",
              "      <td>내가없어져도해는매일뜨겠죠말줄임표</td>\n",
              "    </tr>\n",
              "    <tr>\n",
              "      <td>2</td>\n",
              "      <td>선택의후회,,</td>\n",
              "    </tr>\n",
              "    <tr>\n",
              "      <td>3</td>\n",
              "      <td>오늘도살아야하네말줄임표에휴말줄임표</td>\n",
              "    </tr>\n",
              "    <tr>\n",
              "      <td>4</td>\n",
              "      <td>니가하고싶은대로행동하면난어쩌란거니?도대체어느장단에마춰야할지모르겠어.이래도저래도난너한...</td>\n",
              "    </tr>\n",
              "    <tr>\n",
              "      <td>...</td>\n",
              "      <td>...</td>\n",
              "    </tr>\n",
              "    <tr>\n",
              "      <td>33807</td>\n",
              "      <td>이게우울증인지뭔지모르겠어서,,,,예전에상담클리닉다니면서상담도받았는데조금좋아졌다가요새...</td>\n",
              "    </tr>\n",
              "    <tr>\n",
              "      <td>33808</td>\n",
              "      <td>안녕하세요24살여자입니다고등학교졸업후바로부모님회사에서일을시작하게되었어요2년6개월동안...</td>\n",
              "    </tr>\n",
              "    <tr>\n",
              "      <td>33809</td>\n",
              "      <td>제친구가있는데요말줄임표친구관계때문에많이힘든가봐요수업시간에공책에\"우울감=&gt;우울증\"이라...</td>\n",
              "    </tr>\n",
              "    <tr>\n",
              "      <td>33810</td>\n",
              "      <td>제가우울증이있는데말줄임표답변1글자크기조절,질문하기,답변쓰기메뉴제가원래는누가봐도밝고활...</td>\n",
              "    </tr>\n",
              "    <tr>\n",
              "      <td>33811</td>\n",
              "      <td>잠을의지대로잘못자고있어요그냥잠만못자면다행인데잠을못자는동안계속우울증증세가나타난지벌써2...</td>\n",
              "    </tr>\n",
              "  </tbody>\n",
              "</table>\n",
              "<p>33812 rows × 1 columns</p>\n",
              "</div>"
            ],
            "text/plain": [
              "                                                 content\n",
              "0                             일어나자마자.살기싫은하루말줄임표이럴줄알았지만ㅎㅎ\n",
              "1                                      내가없어져도해는매일뜨겠죠말줄임표\n",
              "2                                                선택의후회,,\n",
              "3                                     오늘도살아야하네말줄임표에휴말줄임표\n",
              "4      니가하고싶은대로행동하면난어쩌란거니?도대체어느장단에마춰야할지모르겠어.이래도저래도난너한...\n",
              "...                                                  ...\n",
              "33807  이게우울증인지뭔지모르겠어서,,,,예전에상담클리닉다니면서상담도받았는데조금좋아졌다가요새...\n",
              "33808  안녕하세요24살여자입니다고등학교졸업후바로부모님회사에서일을시작하게되었어요2년6개월동안...\n",
              "33809  제친구가있는데요말줄임표친구관계때문에많이힘든가봐요수업시간에공책에\"우울감=>우울증\"이라...\n",
              "33810  제가우울증이있는데말줄임표답변1글자크기조절,질문하기,답변쓰기메뉴제가원래는누가봐도밝고활...\n",
              "33811  잠을의지대로잘못자고있어요그냥잠만못자면다행인데잠을못자는동안계속우울증증세가나타난지벌써2...\n",
              "\n",
              "[33812 rows x 1 columns]"
            ]
          },
          "metadata": {
            "tags": []
          },
          "execution_count": 54
        }
      ]
    },
    {
      "cell_type": "code",
      "metadata": {
        "id": "3I0R_x84rmIT",
        "colab_type": "code",
        "colab": {}
      },
      "source": [
        "content=list(df0['content'])"
      ],
      "execution_count": 0,
      "outputs": []
    },
    {
      "cell_type": "code",
      "metadata": {
        "id": "Kn_fU57jrmIV",
        "colab_type": "code",
        "colab": {},
        "outputId": "a4c59eaf-7df5-4149-a305-952e0e894509"
      },
      "source": [
        "# 중복된 문장 제거\n",
        "content = set(content)\n",
        "content = list(content)\n",
        "len(content)"
      ],
      "execution_count": 0,
      "outputs": [
        {
          "output_type": "execute_result",
          "data": {
            "text/plain": [
              "31186"
            ]
          },
          "metadata": {
            "tags": []
          },
          "execution_count": 56
        }
      ]
    },
    {
      "cell_type": "code",
      "metadata": {
        "id": "2FM7H4QermIX",
        "colab_type": "code",
        "colab": {}
      },
      "source": [
        "# 이상한거 없애기\n",
        "for i in range(len(content)):\n",
        "    if '\\xa0' in content[i]:\n",
        "        content[i] = content[i].replace('\\xa0','')\n",
        "\n",
        "for i in range(len(content)):\n",
        "    if '\\n' in content[i]:\n",
        "        content[i] = content[i].replace('\\n','')\n",
        "\n",
        "for i in range(len(content)):\n",
        "    if '\\t' in content[i]:\n",
        "        content[i] = content[i].replace('\\t','')"
      ],
      "execution_count": 0,
      "outputs": []
    },
    {
      "cell_type": "code",
      "metadata": {
        "id": "llv8tz7RrmIZ",
        "colab_type": "code",
        "colab": {}
      },
      "source": [
        "# 광고 없애기\n",
        "hmm = ['com/','<광고>','http','(주)','엄마','친구','동생','언니','누나','오빠','아빠']\n",
        "\n",
        "for i in hmm:\n",
        "    for con in content:\n",
        "        if i in con:\n",
        "            content.remove(con)"
      ],
      "execution_count": 0,
      "outputs": []
    },
    {
      "cell_type": "code",
      "metadata": {
        "scrolled": true,
        "id": "UNximLkermIb",
        "colab_type": "code",
        "colab": {},
        "outputId": "e1ea82f2-5f03-4b4c-c62a-ab996ef87f4e"
      },
      "source": [
        "# DataFrame 으로 만들기\n",
        "df0 = pd.DataFrame(content, columns=['content'])\n",
        "\n",
        "# 0글자 이하 없애기\n",
        "df0['len']=df0.content.apply(lambda x: len(x))\n",
        "df0 = df0[df0['len']>0]\n",
        "\n",
        "df0.head(5)"
      ],
      "execution_count": 0,
      "outputs": [
        {
          "output_type": "execute_result",
          "data": {
            "text/html": [
              "<div>\n",
              "<style scoped>\n",
              "    .dataframe tbody tr th:only-of-type {\n",
              "        vertical-align: middle;\n",
              "    }\n",
              "\n",
              "    .dataframe tbody tr th {\n",
              "        vertical-align: top;\n",
              "    }\n",
              "\n",
              "    .dataframe thead th {\n",
              "        text-align: right;\n",
              "    }\n",
              "</style>\n",
              "<table border=\"1\" class=\"dataframe\">\n",
              "  <thead>\n",
              "    <tr style=\"text-align: right;\">\n",
              "      <th></th>\n",
              "      <th>content</th>\n",
              "      <th>len</th>\n",
              "    </tr>\n",
              "  </thead>\n",
              "  <tbody>\n",
              "    <tr>\n",
              "      <td>0</td>\n",
              "      <td>저는이런말을듣고우르르무너졌습니다</td>\n",
              "      <td>17</td>\n",
              "    </tr>\n",
              "    <tr>\n",
              "      <td>1</td>\n",
              "      <td>갑자기우울함이몰려든다</td>\n",
              "      <td>11</td>\n",
              "    </tr>\n",
              "    <tr>\n",
              "      <td>2</td>\n",
              "      <td>너요즘보기좋더라자꾸배우려고하고노력하는모습이너무예뻐</td>\n",
              "      <td>27</td>\n",
              "    </tr>\n",
              "    <tr>\n",
              "      <td>3</td>\n",
              "      <td>우울하지도않고불안한건쬐금있다그닥죽고싶지도살고싶지도않다희안하다충동적인생각이드는건있다가...</td>\n",
              "      <td>127</td>\n",
              "    </tr>\n",
              "    <tr>\n",
              "      <td>4</td>\n",
              "      <td>제가그동안좋아했던여자들의1/3만,,아니1~2명만이라도성공을했더라면,이런상황에웃으며넘...</td>\n",
              "      <td>360</td>\n",
              "    </tr>\n",
              "  </tbody>\n",
              "</table>\n",
              "</div>"
            ],
            "text/plain": [
              "                                             content  len\n",
              "0                                  저는이런말을듣고우르르무너졌습니다   17\n",
              "1                                        갑자기우울함이몰려든다   11\n",
              "2                        너요즘보기좋더라자꾸배우려고하고노력하는모습이너무예뻐   27\n",
              "3  우울하지도않고불안한건쬐금있다그닥죽고싶지도살고싶지도않다희안하다충동적인생각이드는건있다가...  127\n",
              "4  제가그동안좋아했던여자들의1/3만,,아니1~2명만이라도성공을했더라면,이런상황에웃으며넘...  360"
            ]
          },
          "metadata": {
            "tags": []
          },
          "execution_count": 59
        }
      ]
    },
    {
      "cell_type": "code",
      "metadata": {
        "id": "7xSwSVVNrmIe",
        "colab_type": "code",
        "colab": {},
        "outputId": "846db825-c1f3-4553-a470-477693d3910e"
      },
      "source": [
        "df0[df0['len']>50]"
      ],
      "execution_count": 0,
      "outputs": [
        {
          "output_type": "execute_result",
          "data": {
            "text/html": [
              "<div>\n",
              "<style scoped>\n",
              "    .dataframe tbody tr th:only-of-type {\n",
              "        vertical-align: middle;\n",
              "    }\n",
              "\n",
              "    .dataframe tbody tr th {\n",
              "        vertical-align: top;\n",
              "    }\n",
              "\n",
              "    .dataframe thead th {\n",
              "        text-align: right;\n",
              "    }\n",
              "</style>\n",
              "<table border=\"1\" class=\"dataframe\">\n",
              "  <thead>\n",
              "    <tr style=\"text-align: right;\">\n",
              "      <th></th>\n",
              "      <th>content</th>\n",
              "      <th>len</th>\n",
              "    </tr>\n",
              "  </thead>\n",
              "  <tbody>\n",
              "    <tr>\n",
              "      <td>3</td>\n",
              "      <td>우울하지도않고불안한건쬐금있다그닥죽고싶지도살고싶지도않다희안하다충동적인생각이드는건있다가...</td>\n",
              "      <td>127</td>\n",
              "    </tr>\n",
              "    <tr>\n",
              "      <td>4</td>\n",
              "      <td>제가그동안좋아했던여자들의1/3만,,아니1~2명만이라도성공을했더라면,이런상황에웃으며넘...</td>\n",
              "      <td>360</td>\n",
              "    </tr>\n",
              "    <tr>\n",
              "      <td>5</td>\n",
              "      <td>두달전에공황장애증상으로쓰러지고나서부터는우울증과불안증이와서회사까지그만두게되었습니다말줄...</td>\n",
              "      <td>115</td>\n",
              "    </tr>\n",
              "    <tr>\n",
              "      <td>13</td>\n",
              "      <td>잇다약타고오늘은또뭐하지투데이쉐떠뻑투마로우셔터뻑먼데이투데이아플예정sick점점사람들을멀...</td>\n",
              "      <td>131</td>\n",
              "    </tr>\n",
              "    <tr>\n",
              "      <td>16</td>\n",
              "      <td>외모지상주의엄청심해요길가다가혹은차에서신호기다리다가아니면식당에서밥먹다가지나가는사람들얼...</td>\n",
              "      <td>69</td>\n",
              "    </tr>\n",
              "    <tr>\n",
              "      <td>...</td>\n",
              "      <td>...</td>\n",
              "      <td>...</td>\n",
              "    </tr>\n",
              "    <tr>\n",
              "      <td>26354</td>\n",
              "      <td>우리는아이의부정적인면은교정하고,긍정적인면은강화해나가면더이상삶이우울해있지않고,활력을되...</td>\n",
              "      <td>53</td>\n",
              "    </tr>\n",
              "    <tr>\n",
              "      <td>26359</td>\n",
              "      <td>전23살여자구요되도록여성분이었으면좋겠어요많이우울하고힘들어서사람이만나고싶어요저녁식사하...</td>\n",
              "      <td>68</td>\n",
              "    </tr>\n",
              "    <tr>\n",
              "      <td>26361</td>\n",
              "      <td>그리고혼자만지내다보니취미또한팝음악감상이나축구경기보기같은지극히혼자만깊게파고들수있는취미...</td>\n",
              "      <td>51</td>\n",
              "    </tr>\n",
              "    <tr>\n",
              "      <td>26362</td>\n",
              "      <td>없는사실을있는거처럼꾸며내서저를아주바보로만들었더군요ㅡㅡ그러더니저랑카톡한그남자애는서른살...</td>\n",
              "      <td>113</td>\n",
              "    </tr>\n",
              "    <tr>\n",
              "      <td>26367</td>\n",
              "      <td>말줄임표요즘기술시대라는데말줄임표정말어떻게해야할지모르겠습니다말줄임표도와주세요말줄임표저...</td>\n",
              "      <td>67</td>\n",
              "    </tr>\n",
              "  </tbody>\n",
              "</table>\n",
              "<p>8683 rows × 2 columns</p>\n",
              "</div>"
            ],
            "text/plain": [
              "                                                 content  len\n",
              "3      우울하지도않고불안한건쬐금있다그닥죽고싶지도살고싶지도않다희안하다충동적인생각이드는건있다가...  127\n",
              "4      제가그동안좋아했던여자들의1/3만,,아니1~2명만이라도성공을했더라면,이런상황에웃으며넘...  360\n",
              "5      두달전에공황장애증상으로쓰러지고나서부터는우울증과불안증이와서회사까지그만두게되었습니다말줄...  115\n",
              "13     잇다약타고오늘은또뭐하지투데이쉐떠뻑투마로우셔터뻑먼데이투데이아플예정sick점점사람들을멀...  131\n",
              "16     외모지상주의엄청심해요길가다가혹은차에서신호기다리다가아니면식당에서밥먹다가지나가는사람들얼...   69\n",
              "...                                                  ...  ...\n",
              "26354  우리는아이의부정적인면은교정하고,긍정적인면은강화해나가면더이상삶이우울해있지않고,활력을되...   53\n",
              "26359  전23살여자구요되도록여성분이었으면좋겠어요많이우울하고힘들어서사람이만나고싶어요저녁식사하...   68\n",
              "26361  그리고혼자만지내다보니취미또한팝음악감상이나축구경기보기같은지극히혼자만깊게파고들수있는취미...   51\n",
              "26362  없는사실을있는거처럼꾸며내서저를아주바보로만들었더군요ㅡㅡ그러더니저랑카톡한그남자애는서른살...  113\n",
              "26367  말줄임표요즘기술시대라는데말줄임표정말어떻게해야할지모르겠습니다말줄임표도와주세요말줄임표저...   67\n",
              "\n",
              "[8683 rows x 2 columns]"
            ]
          },
          "metadata": {
            "tags": []
          },
          "execution_count": 60
        }
      ]
    },
    {
      "cell_type": "code",
      "metadata": {
        "id": "6tciAeSqrmIf",
        "colab_type": "code",
        "colab": {}
      },
      "source": [
        "df0['label'] = 1"
      ],
      "execution_count": 0,
      "outputs": []
    },
    {
      "cell_type": "code",
      "metadata": {
        "id": "kEIltetDrmIh",
        "colab_type": "code",
        "colab": {}
      },
      "source": [
        "df0.to_csv('depression_sum.csv')"
      ],
      "execution_count": 0,
      "outputs": []
    },
    {
      "cell_type": "markdown",
      "metadata": {
        "id": "je2xv5ghrmIk",
        "colab_type": "text"
      },
      "source": [
        "## 두 데이터 합치기"
      ]
    },
    {
      "cell_type": "code",
      "metadata": {
        "id": "zqioIQ9UrmIk",
        "colab_type": "code",
        "colab": {},
        "outputId": "dbd765e7-b8f3-4d47-f03c-b2e293dfd1c4"
      },
      "source": [
        "plt.plot(range(len(df0)),df0['len'].T.sort_values()) #글길이 분포 확인"
      ],
      "execution_count": 0,
      "outputs": [
        {
          "output_type": "execute_result",
          "data": {
            "text/plain": [
              "[<matplotlib.lines.Line2D at 0x1e66e1849b0>]"
            ]
          },
          "metadata": {
            "tags": []
          },
          "execution_count": 63
        },
        {
          "output_type": "display_data",
          "data": {
            "image/png": "[encoded data removed]",
            "text/plain": [
              "<Figure size 432x288 with 1 Axes>"
            ]
          },
          "metadata": {
            "tags": [],
            "needs_background": "light"
          }
        }
      ]
    },
    {
      "cell_type": "code",
      "metadata": {
        "id": "8LeuTH8wrmIm",
        "colab_type": "code",
        "colab": {},
        "outputId": "17db6d7b-af28-4786-9550-070ab824a5cd"
      },
      "source": [
        "df0.describe() #글길이 분포 확인"
      ],
      "execution_count": 0,
      "outputs": [
        {
          "output_type": "execute_result",
          "data": {
            "text/html": [
              "<div>\n",
              "<style scoped>\n",
              "    .dataframe tbody tr th:only-of-type {\n",
              "        vertical-align: middle;\n",
              "    }\n",
              "\n",
              "    .dataframe tbody tr th {\n",
              "        vertical-align: top;\n",
              "    }\n",
              "\n",
              "    .dataframe thead th {\n",
              "        text-align: right;\n",
              "    }\n",
              "</style>\n",
              "<table border=\"1\" class=\"dataframe\">\n",
              "  <thead>\n",
              "    <tr style=\"text-align: right;\">\n",
              "      <th></th>\n",
              "      <th>len</th>\n",
              "      <th>label</th>\n",
              "    </tr>\n",
              "  </thead>\n",
              "  <tbody>\n",
              "    <tr>\n",
              "      <td>count</td>\n",
              "      <td>26367.000000</td>\n",
              "      <td>26367.0</td>\n",
              "    </tr>\n",
              "    <tr>\n",
              "      <td>mean</td>\n",
              "      <td>64.595858</td>\n",
              "      <td>1.0</td>\n",
              "    </tr>\n",
              "    <tr>\n",
              "      <td>std</td>\n",
              "      <td>102.032947</td>\n",
              "      <td>0.0</td>\n",
              "    </tr>\n",
              "    <tr>\n",
              "      <td>min</td>\n",
              "      <td>1.000000</td>\n",
              "      <td>1.0</td>\n",
              "    </tr>\n",
              "    <tr>\n",
              "      <td>25%</td>\n",
              "      <td>18.000000</td>\n",
              "      <td>1.0</td>\n",
              "    </tr>\n",
              "    <tr>\n",
              "      <td>50%</td>\n",
              "      <td>33.000000</td>\n",
              "      <td>1.0</td>\n",
              "    </tr>\n",
              "    <tr>\n",
              "      <td>75%</td>\n",
              "      <td>65.000000</td>\n",
              "      <td>1.0</td>\n",
              "    </tr>\n",
              "    <tr>\n",
              "      <td>max</td>\n",
              "      <td>2044.000000</td>\n",
              "      <td>1.0</td>\n",
              "    </tr>\n",
              "  </tbody>\n",
              "</table>\n",
              "</div>"
            ],
            "text/plain": [
              "                len    label\n",
              "count  26367.000000  26367.0\n",
              "mean      64.595858      1.0\n",
              "std      102.032947      0.0\n",
              "min        1.000000      1.0\n",
              "25%       18.000000      1.0\n",
              "50%       33.000000      1.0\n",
              "75%       65.000000      1.0\n",
              "max     2044.000000      1.0"
            ]
          },
          "metadata": {
            "tags": []
          },
          "execution_count": 64
        }
      ]
    },
    {
      "cell_type": "code",
      "metadata": {
        "id": "YR1ap2CUrmIo",
        "colab_type": "code",
        "colab": {},
        "outputId": "bd922be4-5410-452b-9195-1627768abe69"
      },
      "source": [
        "plt.plot(range(len(df9)),df9['len'].T.sort_values()) #글길이 분포 확인"
      ],
      "execution_count": 0,
      "outputs": [
        {
          "output_type": "execute_result",
          "data": {
            "text/plain": [
              "[<matplotlib.lines.Line2D at 0x1e66e2126d8>]"
            ]
          },
          "metadata": {
            "tags": []
          },
          "execution_count": 65
        },
        {
          "output_type": "display_data",
          "data": {
            "image/png": "[encoded data removed]",
            "text/plain": [
              "<Figure size 432x288 with 1 Axes>"
            ]
          },
          "metadata": {
            "tags": [],
            "needs_background": "light"
          }
        }
      ]
    },
    {
      "cell_type": "code",
      "metadata": {
        "id": "Rvro3dS3rmIq",
        "colab_type": "code",
        "colab": {},
        "outputId": "96f767d7-cd87-4849-e5ba-96700d78bf46"
      },
      "source": [
        "df9.describe() #글길이 분포 확인"
      ],
      "execution_count": 0,
      "outputs": [
        {
          "output_type": "execute_result",
          "data": {
            "text/html": [
              "<div>\n",
              "<style scoped>\n",
              "    .dataframe tbody tr th:only-of-type {\n",
              "        vertical-align: middle;\n",
              "    }\n",
              "\n",
              "    .dataframe tbody tr th {\n",
              "        vertical-align: top;\n",
              "    }\n",
              "\n",
              "    .dataframe thead th {\n",
              "        text-align: right;\n",
              "    }\n",
              "</style>\n",
              "<table border=\"1\" class=\"dataframe\">\n",
              "  <thead>\n",
              "    <tr style=\"text-align: right;\">\n",
              "      <th></th>\n",
              "      <th>len</th>\n",
              "      <th>label</th>\n",
              "    </tr>\n",
              "  </thead>\n",
              "  <tbody>\n",
              "    <tr>\n",
              "      <td>count</td>\n",
              "      <td>8832.000000</td>\n",
              "      <td>8832.0</td>\n",
              "    </tr>\n",
              "    <tr>\n",
              "      <td>mean</td>\n",
              "      <td>109.108243</td>\n",
              "      <td>0.0</td>\n",
              "    </tr>\n",
              "    <tr>\n",
              "      <td>std</td>\n",
              "      <td>239.730596</td>\n",
              "      <td>0.0</td>\n",
              "    </tr>\n",
              "    <tr>\n",
              "      <td>min</td>\n",
              "      <td>1.000000</td>\n",
              "      <td>0.0</td>\n",
              "    </tr>\n",
              "    <tr>\n",
              "      <td>25%</td>\n",
              "      <td>23.000000</td>\n",
              "      <td>0.0</td>\n",
              "    </tr>\n",
              "    <tr>\n",
              "      <td>50%</td>\n",
              "      <td>48.000000</td>\n",
              "      <td>0.0</td>\n",
              "    </tr>\n",
              "    <tr>\n",
              "      <td>75%</td>\n",
              "      <td>103.000000</td>\n",
              "      <td>0.0</td>\n",
              "    </tr>\n",
              "    <tr>\n",
              "      <td>max</td>\n",
              "      <td>5589.000000</td>\n",
              "      <td>0.0</td>\n",
              "    </tr>\n",
              "  </tbody>\n",
              "</table>\n",
              "</div>"
            ],
            "text/plain": [
              "               len   label\n",
              "count  8832.000000  8832.0\n",
              "mean    109.108243     0.0\n",
              "std     239.730596     0.0\n",
              "min       1.000000     0.0\n",
              "25%      23.000000     0.0\n",
              "50%      48.000000     0.0\n",
              "75%     103.000000     0.0\n",
              "max    5589.000000     0.0"
            ]
          },
          "metadata": {
            "tags": []
          },
          "execution_count": 66
        }
      ]
    },
    {
      "cell_type": "code",
      "metadata": {
        "id": "pVt_JIk5rmIs",
        "colab_type": "code",
        "colab": {}
      },
      "source": [
        "# 200 글자 이상 제거\n",
        "df9 = df9[df9['len']<200]\n",
        "df0 = df0[df0['len']<200]"
      ],
      "execution_count": 0,
      "outputs": []
    },
    {
      "cell_type": "code",
      "metadata": {
        "id": "stOThCKcrmIu",
        "colab_type": "code",
        "colab": {},
        "outputId": "b81d365c-d678-4bb0-b0c9-e4c75ee244bf"
      },
      "source": [
        "df9"
      ],
      "execution_count": 0,
      "outputs": [
        {
          "output_type": "execute_result",
          "data": {
            "text/html": [
              "<div>\n",
              "<style scoped>\n",
              "    .dataframe tbody tr th:only-of-type {\n",
              "        vertical-align: middle;\n",
              "    }\n",
              "\n",
              "    .dataframe tbody tr th {\n",
              "        vertical-align: top;\n",
              "    }\n",
              "\n",
              "    .dataframe thead th {\n",
              "        text-align: right;\n",
              "    }\n",
              "</style>\n",
              "<table border=\"1\" class=\"dataframe\">\n",
              "  <thead>\n",
              "    <tr style=\"text-align: right;\">\n",
              "      <th></th>\n",
              "      <th>content</th>\n",
              "      <th>len</th>\n",
              "      <th>label</th>\n",
              "    </tr>\n",
              "  </thead>\n",
              "  <tbody>\n",
              "    <tr>\n",
              "      <td>1</td>\n",
              "      <td>문화의날이라그런지인기검색어에사자랑엑시트가있네용ㅎㅎㅎㅎ무대인사예매한게둘다날짜가겹치기도...</td>\n",
              "      <td>82</td>\n",
              "      <td>0</td>\n",
              "    </tr>\n",
              "    <tr>\n",
              "      <td>2</td>\n",
              "      <td>고속버스타고올라가다내린휴게소.구미휴게소인데휴게소내에요런시설도있네요ㅎㅎ</td>\n",
              "      <td>38</td>\n",
              "      <td>0</td>\n",
              "    </tr>\n",
              "    <tr>\n",
              "      <td>3</td>\n",
              "      <td>1일부터월요일이면.그달이정~말길게느껴지더라고요.특히7월처럼31일이나되면서새까만달은.최악</td>\n",
              "      <td>48</td>\n",
              "      <td>0</td>\n",
              "    </tr>\n",
              "    <tr>\n",
              "      <td>4</td>\n",
              "      <td>저는노포를정말좋아하는데그이유는첫번째오래된집은맛에서실패할확률이적고두번째로는그세월이주는...</td>\n",
              "      <td>142</td>\n",
              "      <td>0</td>\n",
              "    </tr>\n",
              "    <tr>\n",
              "      <td>5</td>\n",
              "      <td>이시간전남비바람이몰아칩니다.ㅋㅋ.......낼일있는데..시끄러워서잠도안오고...아침...</td>\n",
              "      <td>61</td>\n",
              "      <td>0</td>\n",
              "    </tr>\n",
              "    <tr>\n",
              "      <td>...</td>\n",
              "      <td>...</td>\n",
              "      <td>...</td>\n",
              "      <td>...</td>\n",
              "    </tr>\n",
              "    <tr>\n",
              "      <td>8828</td>\n",
              "      <td>오렌만에메일확인했는데.광고대행사한테서메일이몇군대왔네요.안하는게낫겠죠?</td>\n",
              "      <td>38</td>\n",
              "      <td>0</td>\n",
              "    </tr>\n",
              "    <tr>\n",
              "      <td>8829</td>\n",
              "      <td>자꾸열받으면먹을려고하고</td>\n",
              "      <td>12</td>\n",
              "      <td>0</td>\n",
              "    </tr>\n",
              "    <tr>\n",
              "      <td>8830</td>\n",
              "      <td>다른날들도그렇지만오늘은더욱그림확언이좋네요^^배경음악들도연말분위기를더욱풍성하게해주네요...</td>\n",
              "      <td>77</td>\n",
              "      <td>0</td>\n",
              "    </tr>\n",
              "    <tr>\n",
              "      <td>8831</td>\n",
              "      <td>목요일인데아직목감기임</td>\n",
              "      <td>11</td>\n",
              "      <td>0</td>\n",
              "    </tr>\n",
              "    <tr>\n",
              "      <td>8832</td>\n",
              "      <td>참외2개깎아서탁자에놔두었는데....댓글달기놀이에빠져있는사이남편혼자다먹어버렸다는......</td>\n",
              "      <td>170</td>\n",
              "      <td>0</td>\n",
              "    </tr>\n",
              "  </tbody>\n",
              "</table>\n",
              "<p>7890 rows × 3 columns</p>\n",
              "</div>"
            ],
            "text/plain": [
              "                                                content  len  label\n",
              "1     문화의날이라그런지인기검색어에사자랑엑시트가있네용ㅎㅎㅎㅎ무대인사예매한게둘다날짜가겹치기도...   82      0\n",
              "2                고속버스타고올라가다내린휴게소.구미휴게소인데휴게소내에요런시설도있네요ㅎㅎ   38      0\n",
              "3      1일부터월요일이면.그달이정~말길게느껴지더라고요.특히7월처럼31일이나되면서새까만달은.최악   48      0\n",
              "4     저는노포를정말좋아하는데그이유는첫번째오래된집은맛에서실패할확률이적고두번째로는그세월이주는...  142      0\n",
              "5     이시간전남비바람이몰아칩니다.ㅋㅋ.......낼일있는데..시끄러워서잠도안오고...아침...   61      0\n",
              "...                                                 ...  ...    ...\n",
              "8828             오렌만에메일확인했는데.광고대행사한테서메일이몇군대왔네요.안하는게낫겠죠?   38      0\n",
              "8829                                       자꾸열받으면먹을려고하고   12      0\n",
              "8830  다른날들도그렇지만오늘은더욱그림확언이좋네요^^배경음악들도연말분위기를더욱풍성하게해주네요...   77      0\n",
              "8831                                        목요일인데아직목감기임   11      0\n",
              "8832  참외2개깎아서탁자에놔두었는데....댓글달기놀이에빠져있는사이남편혼자다먹어버렸다는......  170      0\n",
              "\n",
              "[7890 rows x 3 columns]"
            ]
          },
          "metadata": {
            "tags": []
          },
          "execution_count": 68
        }
      ]
    },
    {
      "cell_type": "code",
      "metadata": {
        "id": "GvV9g7O9rmIz",
        "colab_type": "code",
        "colab": {}
      },
      "source": [
        "# 교집합제거\n",
        "content_0 = [i for i in df0['content']]\n",
        "content_9 = [i for i in df9['content']]\n",
        "content_0 = set(content_0)\n",
        "content_9 = set(content_9)\n",
        "content_1 = content_0 & content_9\n",
        "content_0 = list(content_0-content_1)\n",
        "content_9 = list(content_9-content_1)"
      ],
      "execution_count": 0,
      "outputs": []
    },
    {
      "cell_type": "code",
      "metadata": {
        "id": "yfb8FibCrmI0",
        "colab_type": "code",
        "colab": {},
        "outputId": "93547e84-819f-49b8-a6e7-7e55e51ea14c"
      },
      "source": [
        "len(content_1) # 교집합개수"
      ],
      "execution_count": 0,
      "outputs": [
        {
          "output_type": "execute_result",
          "data": {
            "text/plain": [
              "10"
            ]
          },
          "metadata": {
            "tags": []
          },
          "execution_count": 70
        }
      ]
    },
    {
      "cell_type": "code",
      "metadata": {
        "id": "m6Iqb88SrmI2",
        "colab_type": "code",
        "colab": {}
      },
      "source": [
        "# DataFrame 으로 만들기\n",
        "df0 = pd.DataFrame(content_0, columns=['content'])\n",
        "\n",
        "# 0글자 이하 없애기\n",
        "df0['len']=df0.content.apply(lambda x: len(x))\n",
        "df0 = df0[df0['len']>0]\n",
        "\n",
        "df0.head(5)\n",
        "df0['label'] = 1"
      ],
      "execution_count": 0,
      "outputs": []
    },
    {
      "cell_type": "code",
      "metadata": {
        "id": "Un_8gSLdrmI4",
        "colab_type": "code",
        "colab": {}
      },
      "source": [
        "df0.to_csv('data_depressed.csv', index = False)"
      ],
      "execution_count": 0,
      "outputs": []
    },
    {
      "cell_type": "code",
      "metadata": {
        "id": "ANICZOwmrmI8",
        "colab_type": "code",
        "colab": {}
      },
      "source": [
        "# DataFrame 으로 만들기\n",
        "df9 = pd.DataFrame(content_9, columns=['content'])\n",
        "\n",
        "# 0글자 이하 없애기\n",
        "df9['len']=df9.content.apply(lambda x: len(x))\n",
        "df9 = df9[df9['len']>0]\n",
        "\n",
        "df9.head(5)\n",
        "df9['label'] = 0"
      ],
      "execution_count": 0,
      "outputs": []
    },
    {
      "cell_type": "code",
      "metadata": {
        "id": "ltBn9FYDrmI_",
        "colab_type": "code",
        "colab": {}
      },
      "source": [
        "df9.to_csv('data_normal.csv', index = False)"
      ],
      "execution_count": 0,
      "outputs": []
    },
    {
      "cell_type": "code",
      "metadata": {
        "id": "ZNBLEawwrmJF",
        "colab_type": "code",
        "colab": {},
        "outputId": "d10764bd-5e9d-4bb5-efd8-e804fbe4e98e"
      },
      "source": [
        "len(df0),len(df9)"
      ],
      "execution_count": 0,
      "outputs": [
        {
          "output_type": "execute_result",
          "data": {
            "text/plain": [
              "(24684, 7880)"
            ]
          },
          "metadata": {
            "tags": []
          },
          "execution_count": 75
        }
      ]
    },
    {
      "cell_type": "code",
      "metadata": {
        "id": "mMFcArhTrmJH",
        "colab_type": "code",
        "colab": {}
      },
      "source": [
        "# 일반글(df9)가 더 많기 때문에 같은 양으로 under-sampling\n",
        "df0 = df0.sample(7880).reset_index(drop=True)"
      ],
      "execution_count": 0,
      "outputs": []
    },
    {
      "cell_type": "code",
      "metadata": {
        "id": "CSg8DXBXrmJI",
        "colab_type": "code",
        "colab": {},
        "outputId": "f3eeaa18-66ee-4201-e562-ecf9e3b04dc1"
      },
      "source": [
        "df9"
      ],
      "execution_count": 0,
      "outputs": [
        {
          "output_type": "execute_result",
          "data": {
            "text/html": [
              "<div>\n",
              "<style scoped>\n",
              "    .dataframe tbody tr th:only-of-type {\n",
              "        vertical-align: middle;\n",
              "    }\n",
              "\n",
              "    .dataframe tbody tr th {\n",
              "        vertical-align: top;\n",
              "    }\n",
              "\n",
              "    .dataframe thead th {\n",
              "        text-align: right;\n",
              "    }\n",
              "</style>\n",
              "<table border=\"1\" class=\"dataframe\">\n",
              "  <thead>\n",
              "    <tr style=\"text-align: right;\">\n",
              "      <th></th>\n",
              "      <th>content</th>\n",
              "      <th>len</th>\n",
              "      <th>label</th>\n",
              "    </tr>\n",
              "  </thead>\n",
              "  <tbody>\n",
              "    <tr>\n",
              "      <td>0</td>\n",
              "      <td>행복합니다.감사합니다.^^</td>\n",
              "      <td>14</td>\n",
              "      <td>0</td>\n",
              "    </tr>\n",
              "    <tr>\n",
              "      <td>1</td>\n",
              "      <td>삶을풍요롭게만드는이에프티톡톡톡!!!.꿀추석을모두잘보내고계시죠?.남은휴일도행복하세요!</td>\n",
              "      <td>46</td>\n",
              "      <td>0</td>\n",
              "    </tr>\n",
              "    <tr>\n",
              "      <td>2</td>\n",
              "      <td>문화의날이라그런지인기검색어에사자랑엑시트가있네용ㅎㅎㅎㅎ무대인사예매한게둘다날짜가겹치기도...</td>\n",
              "      <td>82</td>\n",
              "      <td>0</td>\n",
              "    </tr>\n",
              "    <tr>\n",
              "      <td>3</td>\n",
              "      <td>고속버스타고올라가다내린휴게소.구미휴게소인데휴게소내에요런시설도있네요ㅎㅎ</td>\n",
              "      <td>38</td>\n",
              "      <td>0</td>\n",
              "    </tr>\n",
              "    <tr>\n",
              "      <td>4</td>\n",
              "      <td>1일부터월요일이면.그달이정~말길게느껴지더라고요.특히7월처럼31일이나되면서새까만달은.최악</td>\n",
              "      <td>48</td>\n",
              "      <td>0</td>\n",
              "    </tr>\n",
              "    <tr>\n",
              "      <td>...</td>\n",
              "      <td>...</td>\n",
              "      <td>...</td>\n",
              "      <td>...</td>\n",
              "    </tr>\n",
              "    <tr>\n",
              "      <td>7875</td>\n",
              "      <td>글하나하나읽어가며느끼는게많은새벽ㅎ.불면증인가잠을못자네다들굿잠이요ㅎ</td>\n",
              "      <td>36</td>\n",
              "      <td>0</td>\n",
              "    </tr>\n",
              "    <tr>\n",
              "      <td>7876</td>\n",
              "      <td>다른날들도그렇지만오늘은더욱그림확언이좋네요^^배경음악들도연말분위기를더욱풍성하게해주네요...</td>\n",
              "      <td>77</td>\n",
              "      <td>0</td>\n",
              "    </tr>\n",
              "    <tr>\n",
              "      <td>7877</td>\n",
              "      <td>목요일인데아직목감기임</td>\n",
              "      <td>11</td>\n",
              "      <td>0</td>\n",
              "    </tr>\n",
              "    <tr>\n",
              "      <td>7878</td>\n",
              "      <td>결혼한남자가회식할때마다단순직장동료인여자한테잘잘도착했냐,조심히들어가라,쉬어라등등매번카...</td>\n",
              "      <td>79</td>\n",
              "      <td>0</td>\n",
              "    </tr>\n",
              "    <tr>\n",
              "      <td>7879</td>\n",
              "      <td>후...워터파크탈의실에서사진찍어대는인간들왜이리많은지모르겠네요.찍으려면지들도수영복벗고...</td>\n",
              "      <td>53</td>\n",
              "      <td>0</td>\n",
              "    </tr>\n",
              "  </tbody>\n",
              "</table>\n",
              "<p>7880 rows × 3 columns</p>\n",
              "</div>"
            ],
            "text/plain": [
              "                                                content  len  label\n",
              "0                                        행복합니다.감사합니다.^^   14      0\n",
              "1        삶을풍요롭게만드는이에프티톡톡톡!!!.꿀추석을모두잘보내고계시죠?.남은휴일도행복하세요!   46      0\n",
              "2     문화의날이라그런지인기검색어에사자랑엑시트가있네용ㅎㅎㅎㅎ무대인사예매한게둘다날짜가겹치기도...   82      0\n",
              "3                고속버스타고올라가다내린휴게소.구미휴게소인데휴게소내에요런시설도있네요ㅎㅎ   38      0\n",
              "4      1일부터월요일이면.그달이정~말길게느껴지더라고요.특히7월처럼31일이나되면서새까만달은.최악   48      0\n",
              "...                                                 ...  ...    ...\n",
              "7875               글하나하나읽어가며느끼는게많은새벽ㅎ.불면증인가잠을못자네다들굿잠이요ㅎ   36      0\n",
              "7876  다른날들도그렇지만오늘은더욱그림확언이좋네요^^배경음악들도연말분위기를더욱풍성하게해주네요...   77      0\n",
              "7877                                        목요일인데아직목감기임   11      0\n",
              "7878  결혼한남자가회식할때마다단순직장동료인여자한테잘잘도착했냐,조심히들어가라,쉬어라등등매번카...   79      0\n",
              "7879  후...워터파크탈의실에서사진찍어대는인간들왜이리많은지모르겠네요.찍으려면지들도수영복벗고...   53      0\n",
              "\n",
              "[7880 rows x 3 columns]"
            ]
          },
          "metadata": {
            "tags": []
          },
          "execution_count": 77
        }
      ]
    },
    {
      "cell_type": "code",
      "metadata": {
        "id": "cHUsLzD4rmJK",
        "colab_type": "code",
        "colab": {}
      },
      "source": [
        "df9.loc[len(df9)]=['기분이좋다',5,0]"
      ],
      "execution_count": 0,
      "outputs": []
    },
    {
      "cell_type": "code",
      "metadata": {
        "id": "yGn71XikrmJM",
        "colab_type": "code",
        "colab": {}
      },
      "source": [
        "df0.loc[len(df0)]=['기분이나쁘다',6,1]"
      ],
      "execution_count": 0,
      "outputs": []
    },
    {
      "cell_type": "code",
      "metadata": {
        "id": "hA-aegAHrmJO",
        "colab_type": "code",
        "colab": {},
        "outputId": "2633844a-a103-4b9a-c88f-9b1a956a05a5"
      },
      "source": [
        "df = pd.concat([df0,df9],axis = 0)\n",
        "df = df.reset_index(drop = True)\n",
        "df.head(5)"
      ],
      "execution_count": 0,
      "outputs": [
        {
          "output_type": "execute_result",
          "data": {
            "text/html": [
              "<div>\n",
              "<style scoped>\n",
              "    .dataframe tbody tr th:only-of-type {\n",
              "        vertical-align: middle;\n",
              "    }\n",
              "\n",
              "    .dataframe tbody tr th {\n",
              "        vertical-align: top;\n",
              "    }\n",
              "\n",
              "    .dataframe thead th {\n",
              "        text-align: right;\n",
              "    }\n",
              "</style>\n",
              "<table border=\"1\" class=\"dataframe\">\n",
              "  <thead>\n",
              "    <tr style=\"text-align: right;\">\n",
              "      <th></th>\n",
              "      <th>content</th>\n",
              "      <th>len</th>\n",
              "      <th>label</th>\n",
              "    </tr>\n",
              "  </thead>\n",
              "  <tbody>\n",
              "    <tr>\n",
              "      <td>0</td>\n",
              "      <td>하나님에대한신앙이최우선이라하지만내눈엔자신의말=하나님의말이라고생각하는거같음</td>\n",
              "      <td>40</td>\n",
              "      <td>1</td>\n",
              "    </tr>\n",
              "    <tr>\n",
              "      <td>1</td>\n",
              "      <td>내인생이가장힘들었던건나를무어라설명할수없었기때문이다</td>\n",
              "      <td>27</td>\n",
              "      <td>1</td>\n",
              "    </tr>\n",
              "    <tr>\n",
              "      <td>2</td>\n",
              "      <td>저는집이싫습니다</td>\n",
              "      <td>8</td>\n",
              "      <td>1</td>\n",
              "    </tr>\n",
              "    <tr>\n",
              "      <td>3</td>\n",
              "      <td>힘이없고우울하다</td>\n",
              "      <td>8</td>\n",
              "      <td>1</td>\n",
              "    </tr>\n",
              "    <tr>\n",
              "      <td>4</td>\n",
              "      <td>제가깨있어도1시반까지하는애인데뭐하나궁금해서나갔더니막마우스클릭소리나는데,화면보면네이버입니다</td>\n",
              "      <td>49</td>\n",
              "      <td>1</td>\n",
              "    </tr>\n",
              "  </tbody>\n",
              "</table>\n",
              "</div>"
            ],
            "text/plain": [
              "                                             content  len  label\n",
              "0           하나님에대한신앙이최우선이라하지만내눈엔자신의말=하나님의말이라고생각하는거같음   40      1\n",
              "1                        내인생이가장힘들었던건나를무어라설명할수없었기때문이다   27      1\n",
              "2                                           저는집이싫습니다    8      1\n",
              "3                                           힘이없고우울하다    8      1\n",
              "4  제가깨있어도1시반까지하는애인데뭐하나궁금해서나갔더니막마우스클릭소리나는데,화면보면네이버입니다   49      1"
            ]
          },
          "metadata": {
            "tags": []
          },
          "execution_count": 80
        }
      ]
    },
    {
      "cell_type": "code",
      "metadata": {
        "id": "EjDlNjGwrmJQ",
        "colab_type": "code",
        "colab": {},
        "outputId": "e10e44ca-23c0-4988-8de8-d4a68604cb17"
      },
      "source": [
        "df.tail(5)"
      ],
      "execution_count": 0,
      "outputs": [
        {
          "output_type": "execute_result",
          "data": {
            "text/html": [
              "<div>\n",
              "<style scoped>\n",
              "    .dataframe tbody tr th:only-of-type {\n",
              "        vertical-align: middle;\n",
              "    }\n",
              "\n",
              "    .dataframe tbody tr th {\n",
              "        vertical-align: top;\n",
              "    }\n",
              "\n",
              "    .dataframe thead th {\n",
              "        text-align: right;\n",
              "    }\n",
              "</style>\n",
              "<table border=\"1\" class=\"dataframe\">\n",
              "  <thead>\n",
              "    <tr style=\"text-align: right;\">\n",
              "      <th></th>\n",
              "      <th>content</th>\n",
              "      <th>len</th>\n",
              "      <th>label</th>\n",
              "    </tr>\n",
              "  </thead>\n",
              "  <tbody>\n",
              "    <tr>\n",
              "      <td>15757</td>\n",
              "      <td>다른날들도그렇지만오늘은더욱그림확언이좋네요^^배경음악들도연말분위기를더욱풍성하게해주네요...</td>\n",
              "      <td>77</td>\n",
              "      <td>0</td>\n",
              "    </tr>\n",
              "    <tr>\n",
              "      <td>15758</td>\n",
              "      <td>목요일인데아직목감기임</td>\n",
              "      <td>11</td>\n",
              "      <td>0</td>\n",
              "    </tr>\n",
              "    <tr>\n",
              "      <td>15759</td>\n",
              "      <td>결혼한남자가회식할때마다단순직장동료인여자한테잘잘도착했냐,조심히들어가라,쉬어라등등매번카...</td>\n",
              "      <td>79</td>\n",
              "      <td>0</td>\n",
              "    </tr>\n",
              "    <tr>\n",
              "      <td>15760</td>\n",
              "      <td>후...워터파크탈의실에서사진찍어대는인간들왜이리많은지모르겠네요.찍으려면지들도수영복벗고...</td>\n",
              "      <td>53</td>\n",
              "      <td>0</td>\n",
              "    </tr>\n",
              "    <tr>\n",
              "      <td>15761</td>\n",
              "      <td>기분이좋다</td>\n",
              "      <td>5</td>\n",
              "      <td>0</td>\n",
              "    </tr>\n",
              "  </tbody>\n",
              "</table>\n",
              "</div>"
            ],
            "text/plain": [
              "                                                 content  len  label\n",
              "15757  다른날들도그렇지만오늘은더욱그림확언이좋네요^^배경음악들도연말분위기를더욱풍성하게해주네요...   77      0\n",
              "15758                                        목요일인데아직목감기임   11      0\n",
              "15759  결혼한남자가회식할때마다단순직장동료인여자한테잘잘도착했냐,조심히들어가라,쉬어라등등매번카...   79      0\n",
              "15760  후...워터파크탈의실에서사진찍어대는인간들왜이리많은지모르겠네요.찍으려면지들도수영복벗고...   53      0\n",
              "15761                                              기분이좋다    5      0"
            ]
          },
          "metadata": {
            "tags": []
          },
          "execution_count": 81
        }
      ]
    },
    {
      "cell_type": "code",
      "metadata": {
        "id": "4ymJdvTWrmJS",
        "colab_type": "code",
        "colab": {},
        "outputId": "36ca1946-0d1b-41dc-b2b7-d58cee78b116"
      },
      "source": [
        "plt.plot(range(len(df)),df['len'].T.sort_values())"
      ],
      "execution_count": 0,
      "outputs": [
        {
          "output_type": "execute_result",
          "data": {
            "text/plain": [
              "[<matplotlib.lines.Line2D at 0x1e66f23b358>]"
            ]
          },
          "metadata": {
            "tags": []
          },
          "execution_count": 82
        },
        {
          "output_type": "display_data",
          "data": {
            "image/png": "[encoded data removed]",
            "text/plain": [
              "<Figure size 432x288 with 1 Axes>"
            ]
          },
          "metadata": {
            "tags": [],
            "needs_background": "light"
          }
        }
      ]
    },
    {
      "cell_type": "markdown",
      "metadata": {
        "id": "R8dXWSj5rmJT",
        "colab_type": "text"
      },
      "source": [
        "## 토크나이저, 인코딩, pad_sequences"
      ]
    },
    {
      "cell_type": "code",
      "metadata": {
        "id": "Oc7c2izNrmJU",
        "colab_type": "code",
        "colab": {}
      },
      "source": [
        "_input1 = df['content']\n",
        "_label = df['label']"
      ],
      "execution_count": 0,
      "outputs": []
    },
    {
      "cell_type": "code",
      "metadata": {
        "scrolled": true,
        "id": "QyWpL6VcrmJX",
        "colab_type": "code",
        "colab": {}
      },
      "source": [
        "cleaning =lambda s: re.sub(\"[^가-힣a-zA-Z.!?\\\\s]\",\"\",s) # 이모티콘같은거 제거"
      ],
      "execution_count": 0,
      "outputs": []
    },
    {
      "cell_type": "code",
      "metadata": {
        "id": "8xcdZlOwrmJY",
        "colab_type": "code",
        "colab": {}
      },
      "source": [
        "# 형태소 단위로 토크나이즈\n",
        "tokenizer = Okt()\n",
        "_input1 = [ tokenizer.morphs(cleaning(str(sentence))) for sentence in _input1]"
      ],
      "execution_count": 0,
      "outputs": []
    },
    {
      "cell_type": "code",
      "metadata": {
        "id": "xfV_cP6vrmJZ",
        "colab_type": "code",
        "colab": {}
      },
      "source": [
        "#feature 줄이기\n",
        "num_words=17814"
      ],
      "execution_count": 0,
      "outputs": []
    },
    {
      "cell_type": "code",
      "metadata": {
        "id": "9pw7BXXrrmJb",
        "colab_type": "code",
        "colab": {}
      },
      "source": [
        "# 인코딩\n",
        "keras_tokenizer = Tokenizer(num_words=num_words)\n",
        "#keras_tokenizer = Tokenizer()\n",
        "keras_tokenizer.fit_on_texts(_input1)\n",
        "_input = keras_tokenizer.texts_to_sequences(_input1) \n",
        "\n",
        "word_dict = keras_tokenizer.word_index # 단어와 인덱스 딕셔너리\n",
        "\n",
        "max_len = max([len(sentence) for sentence in _input])"
      ],
      "execution_count": 0,
      "outputs": []
    },
    {
      "cell_type": "code",
      "metadata": {
        "id": "PCrHmM6hrmJe",
        "colab_type": "code",
        "colab": {},
        "outputId": "ea27f253-9726-4832-86f0-a4c867332595"
      },
      "source": [
        "len(word_dict)"
      ],
      "execution_count": 0,
      "outputs": [
        {
          "output_type": "execute_result",
          "data": {
            "text/plain": [
              "48238"
            ]
          },
          "metadata": {
            "tags": []
          },
          "execution_count": 100
        }
      ]
    },
    {
      "cell_type": "code",
      "metadata": {
        "id": "FoAyxVX7rmJg",
        "colab_type": "code",
        "colab": {}
      },
      "source": [
        "index_word = keras_tokenizer.index_word"
      ],
      "execution_count": 0,
      "outputs": []
    },
    {
      "cell_type": "code",
      "metadata": {
        "id": "EaHPfoiWrmJh",
        "colab_type": "code",
        "colab": {},
        "outputId": "5cb59b39-b580-4225-da6d-8da151ecc0d4"
      },
      "source": [
        "index_word[2061]"
      ],
      "execution_count": 0,
      "outputs": [
        {
          "output_type": "execute_result",
          "data": {
            "text/plain": [
              "'보이지'"
            ]
          },
          "metadata": {
            "tags": []
          },
          "execution_count": 103
        }
      ]
    },
    {
      "cell_type": "code",
      "metadata": {
        "scrolled": true,
        "id": "IUFuxTe7rmJj",
        "colab_type": "code",
        "colab": {},
        "outputId": "f2d7e7f0-8e47-44fe-968e-44f0a7a6c07c"
      },
      "source": [
        "max_len"
      ],
      "execution_count": 0,
      "outputs": [
        {
          "output_type": "execute_result",
          "data": {
            "text/plain": [
              "108"
            ]
          },
          "metadata": {
            "tags": []
          },
          "execution_count": 104
        }
      ]
    },
    {
      "cell_type": "code",
      "metadata": {
        "id": "GGCQeZENrmJk",
        "colab_type": "code",
        "colab": {}
      },
      "source": [
        "_input = pad_sequences(_input, maxlen=max_len, padding='post')\n",
        "#_label = [ to_categorical(_l) for _l in _label] "
      ],
      "execution_count": 0,
      "outputs": []
    },
    {
      "cell_type": "code",
      "metadata": {
        "id": "1Su0p4vtrmJl",
        "colab_type": "code",
        "colab": {},
        "outputId": "eff74066-2c1c-46db-ca19-42cbf22aacdd"
      },
      "source": [
        "plt.plot(_input, 'ro')\n",
        "plt.show()"
      ],
      "execution_count": 0,
      "outputs": [
        {
          "output_type": "display_data",
          "data": {
            "image/png": "[encoded data removed]",
            "text/plain": [
              "<Figure size 432x288 with 1 Axes>"
            ]
          },
          "metadata": {
            "tags": [],
            "needs_background": "light"
          }
        }
      ]
    },
    {
      "cell_type": "code",
      "metadata": {
        "id": "43EU-OA8rmJn",
        "colab_type": "code",
        "colab": {},
        "outputId": "1cf0752e-cb43-4cc7-b4c7-eeb099d3d363"
      },
      "source": [
        "_input[1]"
      ],
      "execution_count": 0,
      "outputs": [
        {
          "output_type": "execute_result",
          "data": {
            "text/plain": [
              "array([   27,   158,     2,   525, 17813,   291, 11519,   168,  1156,\n",
              "         768,    84,   110,     0,     0,     0,     0,     0,     0,\n",
              "           0,     0,     0,     0,     0,     0,     0,     0,     0,\n",
              "           0,     0,     0,     0,     0,     0,     0,     0,     0,\n",
              "           0,     0,     0,     0,     0,     0,     0,     0,     0,\n",
              "           0,     0,     0,     0,     0,     0,     0,     0,     0,\n",
              "           0,     0,     0,     0,     0,     0,     0,     0,     0,\n",
              "           0,     0,     0,     0,     0,     0,     0,     0,     0,\n",
              "           0,     0,     0,     0,     0,     0,     0,     0,     0,\n",
              "           0,     0,     0,     0,     0,     0,     0,     0,     0,\n",
              "           0,     0,     0,     0,     0,     0,     0,     0,     0,\n",
              "           0,     0,     0,     0,     0,     0,     0,     0,     0])"
            ]
          },
          "metadata": {
            "tags": []
          },
          "execution_count": 107
        }
      ]
    },
    {
      "cell_type": "code",
      "metadata": {
        "id": "QFCCzeFBrmJq",
        "colab_type": "code",
        "colab": {},
        "outputId": "544036c7-ab42-4626-d71e-9f396a4f0639"
      },
      "source": [
        "_label[:10]"
      ],
      "execution_count": 0,
      "outputs": [
        {
          "output_type": "execute_result",
          "data": {
            "text/plain": [
              "0    1\n",
              "1    1\n",
              "2    1\n",
              "3    1\n",
              "4    1\n",
              "5    1\n",
              "6    1\n",
              "7    1\n",
              "8    1\n",
              "9    1\n",
              "Name: label, dtype: int64"
            ]
          },
          "metadata": {
            "tags": []
          },
          "execution_count": 108
        }
      ]
    },
    {
      "cell_type": "code",
      "metadata": {
        "id": "K_wzz7qyrmJs",
        "colab_type": "code",
        "colab": {}
      },
      "source": [
        "#모델에 사용할 변수들 피클 형태로 저장\n",
        "data = [max_len, num_words+1,keras_tokenizer,_input, _label]\n",
        "with open('input_data.pickle', 'wb') as handle:\n",
        "    pickle.dump(data, handle,protocol = pickle.HIGHEST_PROTOCOL)"
      ],
      "execution_count": 0,
      "outputs": []
    },
    {
      "cell_type": "code",
      "metadata": {
        "id": "7DDULahGrmJt",
        "colab_type": "code",
        "colab": {}
      },
      "source": [
        "#토크나이저 저장\n",
        "data = [keras_tokenizer, max_len]\n",
        "with open('word_dict.pickle', 'wb') as handle:\n",
        "    pickle.dump(data, handle,protocol = pickle.HIGHEST_PROTOCOL)"
      ],
      "execution_count": 0,
      "outputs": []
    }
  ]
}