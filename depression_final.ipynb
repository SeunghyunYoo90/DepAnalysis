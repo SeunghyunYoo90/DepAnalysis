{
 "cells": [
  {
   "cell_type": "code",
   "execution_count": 1,
   "metadata": {},
   "outputs": [],
   "source": [
    "import pandas as pd, pickle, re\n",
    "from konlpy.tag import Okt\n",
    "from tensorflow.keras.preprocessing.text import Tokenizer\n",
    "from tensorflow.keras.preprocessing.sequence import pad_sequences\n",
    "import tensorflow as tf\n",
    "import numpy as np"
   ]
  },
  {
   "cell_type": "code",
   "execution_count": 2,
   "metadata": {},
   "outputs": [],
   "source": [
    "from termcolor import colored"
   ]
  },
  {
   "cell_type": "code",
   "execution_count": 3,
   "metadata": {},
   "outputs": [],
   "source": [
    "from IPython.core.display import HTML\n",
    "#display(HTML(df2.to_html()))"
   ]
  },
  {
   "cell_type": "code",
   "execution_count": 4,
   "metadata": {
    "scrolled": true
   },
   "outputs": [
    {
     "name": "stdout",
     "output_type": "stream",
     "text": [
      "WARNING:tensorflow:From C:\\Users\\USER\\Anaconda3\\lib\\site-packages\\tensorflow\\python\\keras\\initializers.py:119: calling RandomUniform.__init__ (from tensorflow.python.ops.init_ops) with dtype is deprecated and will be removed in a future version.\n",
      "Instructions for updating:\n",
      "Call initializer instance with the dtype argument instead of passing it to the constructor\n",
      "WARNING:tensorflow:From C:\\Users\\USER\\Anaconda3\\lib\\site-packages\\tensorflow\\python\\ops\\init_ops.py:97: calling GlorotUniform.__init__ (from tensorflow.python.ops.init_ops) with dtype is deprecated and will be removed in a future version.\n",
      "Instructions for updating:\n",
      "Call initializer instance with the dtype argument instead of passing it to the constructor\n",
      "WARNING:tensorflow:From C:\\Users\\USER\\Anaconda3\\lib\\site-packages\\tensorflow\\python\\ops\\init_ops.py:1251: calling VarianceScaling.__init__ (from tensorflow.python.ops.init_ops) with dtype is deprecated and will be removed in a future version.\n",
      "Instructions for updating:\n",
      "Call initializer instance with the dtype argument instead of passing it to the constructor\n",
      "WARNING:tensorflow:From C:\\Users\\USER\\Anaconda3\\lib\\site-packages\\tensorflow\\python\\ops\\init_ops.py:97: calling Orthogonal.__init__ (from tensorflow.python.ops.init_ops) with dtype is deprecated and will be removed in a future version.\n",
      "Instructions for updating:\n",
      "Call initializer instance with the dtype argument instead of passing it to the constructor\n",
      "WARNING:tensorflow:From C:\\Users\\USER\\Anaconda3\\lib\\site-packages\\tensorflow\\python\\ops\\init_ops.py:97: calling Zeros.__init__ (from tensorflow.python.ops.init_ops) with dtype is deprecated and will be removed in a future version.\n",
      "Instructions for updating:\n",
      "Call initializer instance with the dtype argument instead of passing it to the constructor\n"
     ]
    }
   ],
   "source": [
    "from tensorflow.keras.models import model_from_json \n",
    "json_file = open(\"model.json\", \"r\") \n",
    "loaded_model_json = json_file.read() \n",
    "json_file.close() \n",
    "loaded_model = model_from_json(loaded_model_json)\n",
    "loaded_model.load_weights(\"model.h5\")"
   ]
  },
  {
   "cell_type": "code",
   "execution_count": 5,
   "metadata": {},
   "outputs": [],
   "source": [
    "eda=pd.read_csv('freq.csv')"
   ]
  },
  {
   "cell_type": "code",
   "execution_count": 6,
   "metadata": {},
   "outputs": [],
   "source": [
    "eda=eda[eda['text']!='친구']"
   ]
  },
  {
   "cell_type": "code",
   "execution_count": 7,
   "metadata": {},
   "outputs": [],
   "source": [
    "eda=eda[eda['compare']>=2]"
   ]
  },
  {
   "cell_type": "code",
   "execution_count": 8,
   "metadata": {},
   "outputs": [],
   "source": [
    "dic={'Noun': '명사',\n",
    " 'Josa': '조사',\n",
    " 'Adjective': '형용사',\n",
    " 'Adverb': '부사',\n",
    " 'Determiner': '한정사',\n",
    " 'Verb': '동사',\n",
    " 'Modifier': '수식어',\n",
    " 'Conjunction': '접속사',\n",
    " 'VerbPrefix': '동사 접두사',\n",
    " 'Suffix': '접미사',\n",
    " 'Exclamation': '감탄사',\n",
    " 'Alpha': 'Alpha',\n",
    " 'Foreign': 'Foreign',\n",
    " 'Hashtag': 'Hashtag',\n",
    " 'Eomi': 'Eomi',\n",
    " 'Email': 'Email',\n",
    " 'ScreenName': 'ScreenName'}"
   ]
  },
  {
   "cell_type": "code",
   "execution_count": 9,
   "metadata": {},
   "outputs": [],
   "source": [
    "cleaning =lambda s: re.sub(\"[^가-힣a-zA-Z.!?\\\\s]\",\"\",s)\n",
    "tokenizer = Okt()\n",
    "\n",
    "with open('word_dict.pickle', 'rb') as handle:\n",
    "    data = pickle.load(handle)\n",
    "\n",
    "keras_tokenizer, max_len = data"
   ]
  },
  {
   "cell_type": "code",
   "execution_count": 10,
   "metadata": {},
   "outputs": [],
   "source": [
    "def predict(a):\n",
    "\n",
    "    list_dot = ['.'*i for i in range(20, 1, -1)]\n",
    "    model = loaded_model\n",
    "    \n",
    "    a = a.replace(' ','')\n",
    "    \n",
    "    #말줄임표 없애기\n",
    "    for i in list_dot:\n",
    "        a = a.replace(i,'말줄임표')\n",
    "\n",
    "    _input1 = [tokenizer.morphs(cleaning(str(a)))]\n",
    "        \n",
    "    _input2 = keras_tokenizer.texts_to_sequences(_input1) \n",
    "    _input2 = pad_sequences(_input2, maxlen=max_len, padding='post')\n",
    "    \n",
    "    pred = model.predict(_input2)\n",
    "\n",
    "        \n",
    "    result = str(int(pred*100)) + '%'\n",
    "        \n",
    "    return result"
   ]
  },
  {
   "cell_type": "code",
   "execution_count": 15,
   "metadata": {
    "scrolled": false
   },
   "outputs": [
    {
     "name": "stdout",
     "output_type": "stream",
     "text": [
      "\n",
      "끄적끄적 해보세요: \n",
      "\n",
      "행복하다\n",
      "\u001b[5m\u001b[7m\n",
      "당신의 우울증 확률: 73% \n",
      "\u001b[0m\n",
      "\n",
      "끄적끄적 해보세요: \n",
      "\n",
      "'현명한포기에는용기가필요하다.실패를인정하는용기.노력과시간이아무런결실을맺지못했더라도과감히버릴줄아는용기.실패했음에도새로운것에다시도전할수있는용기.현명한포기는끝까지버티다어쩔수없이하는체념이나힘들면그냥포기해버리는의지박약과는다르다.적절한시기에아직더가볼수있음에도용기를내어그만두는것이다.왜?그렇게하는것이이익이니까.인생에도손절매가필요하다.타이밍을놓치면작은손해에서그칠일이큰손해로이어진다.무작정버티고노력하는것만이능사가아니다.지금우리에겐노력보다용기가더필요한것같다.무모하지만도전하는용기그리고적절한시기에포기할줄아는용기말이다.'\n",
      "\u001b[5m\u001b[7m\n",
      "당신의 우울증 확률: 57% \n",
      "\u001b[0m\n",
      "현명한 포기 에는 용기 가 필요하다 실패 를 인정 하 는 용기 노력 과 시간 이 아무런 결실 을 맺지못 했 더라도 과 감히 버릴줄아는 용기 실패했음에도 새로운것에다 시도 전 할수있는 용기 현명한 포기 는 끝 까지 \u001b[5m\u001b[7m\u001b[31m버티다\u001b[0m 어쩔 수없이 하는 체념 이나 힘들면 \u001b[5m\u001b[7m\u001b[31m그냥\u001b[0m 포기 해 버리는 의지 박약 과는 다르다 적절한시기에 아직 더 가볼수있음에도 용기 를 내 어그 만 두는것이다 \u001b[5m\u001b[7m\u001b[31m왜\u001b[0m 그렇게 하는것이 이익 이니까 인생 에도 손절 매가 필요하다 타이밍 을 놓치면 작은 손해 에서 그 칠일이 큰손 해로 이어진다 무작정 버티고 노력 하는것만이 능사 가 아니다 지금 우리 에겐 노력 보다 용기 가더 필요한것 \u001b[5m\u001b[7m\u001b[31m같다\u001b[0m 무모하지만도 전하 는 용기 그리고 적절한시기에 포기 할줄아는 용기말이다 \n",
      "우울증 문서에 자주 나타나는 표현:\n",
      "\n",
      "그냥 / 명사\n",
      "                 : 일반문서의  4.1 배 등장\n",
      "\n",
      "버티다 / 동사\n",
      "                 : 일반문서의  2.8 배 등장\n",
      "\n",
      "왜 / 명사\n",
      "                 : 일반문서의  2.2 배 등장\n",
      "\n",
      "같다 / 형용사\n",
      "                 : 일반문서의  2.1 배 등장\n",
      "\n",
      "\n",
      "끄적끄적 해보세요: \n",
      "\n",
      "\n"
     ]
    }
   ],
   "source": [
    "while True:\n",
    "    a = input('\\n끄적끄적 해보세요: \\n\\n')\n",
    "    if a=='':\n",
    "        break\n",
    "    else:\n",
    "        text=[]\n",
    "        content=[]\n",
    "        freq=[]\n",
    "        compare=[]\n",
    "        a = a.replace(' ','')\n",
    "        for i in tokenizer.pos(cleaning(str(a))):\n",
    "            try:\n",
    "                if (i[0]+'/'+dic[i[1]]) in list(eda['content']):\n",
    "                    content.append(i[0]+'/'+dic[i[1]])\n",
    "\n",
    "            except:\n",
    "                continue\n",
    "\n",
    "        content=list(set(content))\n",
    "        for i in content:\n",
    "            freq.append(int(eda['freq'][eda['content']==i]))\n",
    "            compare.append(np.round(float(eda['compare'][eda['content']==i]),1))\n",
    "            text.append(eda['freq'][eda['content']==i])\n",
    "\n",
    "        df=pd.DataFrame({'text':text,'content':content,'freq':freq,'compare':compare}).sort_values('compare',ascending=False)\n",
    "        df=df[:7]\n",
    "        result=predict(a)\n",
    "\n",
    "\n",
    "        if len(freq)==0 :\n",
    "\n",
    "            print(colored('\\n당신의 우울증 확률: {0} \\n', attrs=['reverse', 'blink']) .format(result))\n",
    "        elif int(result[:-1])<=50:\n",
    "\n",
    "            print(colored('\\n당신의 우울증 확률: {0} \\n', attrs=['reverse', 'blink']) .format(result))\n",
    "\n",
    "        else:\n",
    "\n",
    "            print(colored('\\n당신의 우울증 확률: {0} \\n', attrs=['reverse', 'blink']) .format(result))\n",
    "            for i in tokenizer.pos(cleaning(str(a))):\n",
    "                try:\n",
    "                    if (i[0]+'/'+dic[i[1]]) in content:\n",
    "                        print(colored(i[0],'red', attrs=['reverse', 'blink']),end=' ')\n",
    "                    else:\n",
    "                        print(i[0],end=' ')\n",
    "                except:\n",
    "                    continue\n",
    "            print('\\n우울증 문서에 자주 나타나는 표현:\\n')\n",
    "\n",
    "            for i in list(df.index):\n",
    "                try:\n",
    "                    if df.compare[i]!=0:\n",
    "                        print(df.content[i].replace('/',' / '))\n",
    "                        print(': 일반문서의 '.rjust(25),str(df.compare[i]),'배 등장\\n')\n",
    "                    else:\n",
    "                        print(df.content[i].replace('/',' / '),': 우울증 문서에만 등장')\n",
    "                except:\n",
    "                    continue\n",
    "                    "
   ]
  },
  {
   "cell_type": "code",
   "execution_count": 92,
   "metadata": {},
   "outputs": [
    {
     "data": {
      "text/plain": [
       "48"
      ]
     },
     "execution_count": 92,
     "metadata": {},
     "output_type": "execute_result"
    }
   ],
   "source": [
    "int(result[:-1])"
   ]
  },
  {
   "cell_type": "code",
   "execution_count": 98,
   "metadata": {},
   "outputs": [
    {
     "data": {
      "text/plain": [
       "'현명한포기에는용기가필요하다.실패를인정하는용기.노력과시간이아무런결실을맺지못했더라도과감히버릴줄아는용기.실패했음에도새로운것에다시도전할수있는용기.현명한포기는끝까지버티다어쩔수없이하는체념이나힘들면그냥포기해버리는의지박약과는다르다.적절한시기에아직더가볼수있음에도용기를내어그만두는것이다.왜?그렇게하는것이이익이니까.인생에도손절매가필요하다.타이밍을놓치면작은손해에서그칠일이큰손해로이어진다.무작정버티고노력하는것만이능사가아니다.지금우리에겐노력보다용기가더필요한것같다.무모하지만도전하는용기그리고적절한시기에포기할줄아는용기말이다.'"
      ]
     },
     "execution_count": 98,
     "metadata": {},
     "output_type": "execute_result"
    }
   ],
   "source": [
    "a.replace(' ','')"
   ]
  }
 ],
 "metadata": {
  "kernelspec": {
   "display_name": "Python 3",
   "language": "python",
   "name": "python3"
  },
  "language_info": {
   "codemirror_mode": {
    "name": "ipython",
    "version": 3
   },
   "file_extension": ".py",
   "mimetype": "text/x-python",
   "name": "python",
   "nbconvert_exporter": "python",
   "pygments_lexer": "ipython3",
   "version": "3.6.9"
  }
 },
 "nbformat": 4,
 "nbformat_minor": 2
}
