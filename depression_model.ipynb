{
 "cells": [
  {
   "cell_type": "code",
   "execution_count": 12,
   "metadata": {},
   "outputs": [],
   "source": [
    "import numpy as np"
   ]
  },
  {
   "cell_type": "code",
   "execution_count": 13,
   "metadata": {},
   "outputs": [],
   "source": [
    "from tensorflow.keras import optimizers"
   ]
  },
  {
   "cell_type": "code",
   "execution_count": 14,
   "metadata": {},
   "outputs": [],
   "source": [
    "import pandas as pd, pickle, re\n",
    "from konlpy.tag import Okt\n",
    "from tensorflow.keras.preprocessing.text import Tokenizer\n",
    "from tensorflow.keras.preprocessing.sequence import pad_sequences\n",
    "import tensorflow as tf\n",
    "from sklearn.model_selection import train_test_split"
   ]
  },
  {
   "cell_type": "code",
   "execution_count": 15,
   "metadata": {},
   "outputs": [],
   "source": [
    "from tensorflow.keras.callbacks import EarlyStopping"
   ]
  },
  {
   "cell_type": "code",
   "execution_count": 16,
   "metadata": {},
   "outputs": [],
   "source": [
    "import matplotlib.pyplot as plt"
   ]
  },
  {
   "cell_type": "code",
   "execution_count": 17,
   "metadata": {},
   "outputs": [
    {
     "data": {
      "text/plain": [
       "'1.14.0'"
      ]
     },
     "execution_count": 17,
     "metadata": {},
     "output_type": "execute_result"
    }
   ],
   "source": [
    "tf.__version__"
   ]
  },
  {
   "cell_type": "code",
   "execution_count": 18,
   "metadata": {
    "scrolled": true
   },
   "outputs": [
    {
     "name": "stdout",
     "output_type": "stream",
     "text": [
      "17815\n",
      "<keras_preprocessing.text.Tokenizer object at 0x00000231827719E8>\n",
      "[[  998     4   132 ...     0     0     0]\n",
      " [   27   158     2 ...     0     0     0]\n",
      " [   21     6    88 ...     0     0     0]\n",
      " ...\n",
      " [  353    18   254 ...     0     0     0]\n",
      " [  252    19 11090 ...     0     0     0]\n",
      " [   83     2   677 ...     0     0     0]]\n",
      "0     1\n",
      "1     1\n",
      "2     1\n",
      "3     1\n",
      "4     1\n",
      "5     1\n",
      "6     1\n",
      "7     1\n",
      "8     1\n",
      "9     1\n",
      "10    1\n",
      "11    1\n",
      "12    1\n",
      "13    1\n",
      "14    1\n",
      "15    1\n",
      "16    1\n",
      "17    1\n",
      "18    1\n",
      "19    1\n",
      "Name: label, dtype: int64\n"
     ]
    }
   ],
   "source": [
    "from tensorflow.keras.preprocessing.text import Tokenizer\n",
    "\n",
    "with open('./input_data.pickle', 'rb') as handle:\n",
    "    data = pickle.load(handle)\n",
    "\n",
    "embedding_size, max_features,keras_tokenizer, _input, _label = data\n",
    "\n",
    "word_index = keras_tokenizer.word_index\n",
    "index_word = keras_tokenizer.index_word\n",
    "\n",
    "print(max_features)\n",
    "print(keras_tokenizer)\n",
    "print(_input)\n",
    "print(_label[:20])\n"
   ]
  },
  {
   "cell_type": "code",
   "execution_count": 19,
   "metadata": {},
   "outputs": [],
   "source": [
    "embedding_size=128"
   ]
  },
  {
   "cell_type": "code",
   "execution_count": 20,
   "metadata": {
    "scrolled": true
   },
   "outputs": [
    {
     "name": "stdout",
     "output_type": "stream",
     "text": [
      "input_train: [[   81    21  2388     4   152   416   518     3  1134   987     7   194\n",
      "     26   236  4640     8  3374    15    46   156  5005 10207    66   907\n",
      "    475   441   194    26  1785   480   194  1065     2   486     0     0\n",
      "      0     0     0     0     0     0     0     0     0     0     0     0\n",
      "      0     0     0     0     0     0     0     0     0     0     0     0\n",
      "      0     0     0     0     0     0     0     0     0     0     0     0\n",
      "      0     0     0     0     0     0     0     0     0     0     0     0\n",
      "      0     0     0     0     0     0     0     0     0     0     0     0\n",
      "      0     0     0     0     0     0     0     0     0     0     0     0]\n",
      " [  640   491   888  2730  1838  1377     3 17148    28    25     4   894\n",
      "     35   174  4334    24    11    97   493    15   234 16343    14     0\n",
      "      0     0     0     0     0     0     0     0     0     0     0     0\n",
      "      0     0     0     0     0     0     0     0     0     0     0     0\n",
      "      0     0     0     0     0     0     0     0     0     0     0     0\n",
      "      0     0     0     0     0     0     0     0     0     0     0     0\n",
      "      0     0     0     0     0     0     0     0     0     0     0     0\n",
      "      0     0     0     0     0     0     0     0     0     0     0     0\n",
      "      0     0     0     0     0     0     0     0     0     0     0     0]]\n",
      "input_test: [[  123     3  7210  1530   311     7     0     0     0     0     0     0\n",
      "      0     0     0     0     0     0     0     0     0     0     0     0\n",
      "      0     0     0     0     0     0     0     0     0     0     0     0\n",
      "      0     0     0     0     0     0     0     0     0     0     0     0\n",
      "      0     0     0     0     0     0     0     0     0     0     0     0\n",
      "      0     0     0     0     0     0     0     0     0     0     0     0\n",
      "      0     0     0     0     0     0     0     0     0     0     0     0\n",
      "      0     0     0     0     0     0     0     0     0     0     0     0\n",
      "      0     0     0     0     0     0     0     0     0     0     0     0]\n",
      " [  355    96  3471    34   716    15     6   204    39  2365  3279  1528\n",
      "     66     2   857 12422    94  2621   245     2   857 12314     2   857\n",
      "   2805   326 12070     2   857    96  9909  1570   563     4  7497  2301\n",
      "     25     2   909    36    25     4     0     0     0     0     0     0\n",
      "      0     0     0     0     0     0     0     0     0     0     0     0\n",
      "      0     0     0     0     0     0     0     0     0     0     0     0\n",
      "      0     0     0     0     0     0     0     0     0     0     0     0\n",
      "      0     0     0     0     0     0     0     0     0     0     0     0\n",
      "      0     0     0     0     0     0     0     0     0     0     0     0]]\n",
      "label_train: [6753     1\n",
      "12125    0\n",
      "Name: label, dtype: int64]\n",
      "label_test: [579     1\n",
      "3482    1\n",
      "Name: label, dtype: int64]\n"
     ]
    }
   ],
   "source": [
    "input_train,input_test,label_train, label_test = train_test_split(_input,_label, test_size=0.1,stratify =_label)\n",
    "\n",
    "print('input_train:',input_train[:2])\n",
    "print('input_test:',input_test[:2])\n",
    "print('label_train:',[label_train[:2]])\n",
    "print('label_test:',[label_test[:2]])"
   ]
  },
  {
   "cell_type": "markdown",
   "metadata": {},
   "source": [
    "BUFFER_SIZE = len(input_train)\n",
    "steps_per_epoch = len(input_train) // BATCH_SIZE\n",
    "SIZE_INPUT = len(lan_input.word_index) + 1\n",
    "SIZE_TARGET = len(lan_target.word_index) + 1\n",
    "\n",
    "dataset = tf.data.Dataset.from_tensor_slices((input_train, label_train)).shuffle(BUFFER_SIZE)\n",
    "dataset = dataset.batch(BATCH_SIZE, drop_remainder=True)\n"
   ]
  },
  {
   "cell_type": "code",
   "execution_count": null,
   "metadata": {},
   "outputs": [],
   "source": [
    "#인코더를 정의하는 클래스 입니다.\n",
    "class Encoder(tf.keras.Model):\n",
    "    def __init__(self, vocab_size, EMD_DM, enc_units, batch_sz):\n",
    "        super(Encoder, self).__init__()\n",
    "        self.batch_sz = batch_sz\n",
    "        self.enc_units = enc_units\n",
    "        self.embedding = tf.keras.layers.Embedding(vocab_size, EMD_DM)\n",
    "        # TODO: GRU 신경망을 Keras를 이용하여 설정한 인코더 유닛만큼 self.gru에 선언합니다.(return_sequences=True, return_state=True)\n",
    "        self.gru = tf.keras.layers.GRU(self.enc_units, return_sequences=True, return_state=True, \n",
    "                                       recurrent_initializer='glorot_uniform')\n",
    "\n",
    "    def call(self, x, hidden):\n",
    "        x = self.embedding(x)\n",
    "        # TODO: GRU의 입력을 x로, 초기 상태를 hidden으로 설정합니다. \n",
    "        output, state = self.gru(x)\n",
    "        return output, state\n",
    "\n",
    "    def initialize_hidden_state(self):\n",
    "        return tf.zeros((self.batch_sz, self.enc_units))\n",
    "\n",
    "#어텐션을 정의하는 클래스 입니다.\n",
    "class Attention(tf.keras.Model):\n",
    "    def __init__(self, UNITS):\n",
    "        super(Attention, self).__init__()\n",
    "        self.W1 = tf.keras.layers.Dense(UNITS)\n",
    "        self.W2 = tf.keras.layers.Dense(UNITS)\n",
    "        self.V = tf.keras.layers.Dense(1)\n",
    "\n",
    "    def call(self, query, values):       \n",
    "        _hidden = tf.expand_dims(query, 1)\n",
    "        # TODO: values를 W1에 _hidden을 W2에 연산을 적용한 후, 이를 V에 적용합니다. \n",
    "        score = self.V(tf.nn.tanh(self.W1( values) + self.W2(_hidden)))\n",
    "        attention_weights = tf.nn.softmax(score, axis=1)\n",
    "        context_vector = attention_weights * values\n",
    "        context_vector = tf.reduce_sum(context_vector, axis=1)\n",
    "\n",
    "        return context_vector, attention_weights\n",
    "\n",
    "# 디코더를 정의하는 클래스 입니다.\n",
    "class Decoder(tf.keras.Model):\n",
    "    def __init__(self, vocab_size, EMD_DM, dec_units, batch_sz):\n",
    "        super(Decoder, self).__init__()\n",
    "        self.batch_sz = batch_sz\n",
    "        self.dec_units = dec_units\n",
    "        self.embedding = tf.keras.layers.Embedding(vocab_size, EMD_DM)\n",
    "        self.gru = tf.keras.layers.GRU(self.dec_units, return_sequences=True, return_state=True, \n",
    "                                       recurrent_initializer='glorot_uniform')\n",
    "        self.fc = tf.keras.layers.Dense(vocab_size)\n",
    "        self.attention = Attention(self.dec_units)\n",
    "\n",
    "    def call(self, _x, hidden, out_encoder):\n",
    "        context_vector, attention_weights = self.attention(hidden, out_encoder)\n",
    "        _x = self.embedding(_x)\n",
    "        _x = tf.concat([tf.expand_dims(context_vector, 1), _x], axis=-1)\n",
    "        output, state = self.gru(_x)\n",
    "        output = tf.reshape(output, (-1, output.shape[2]))\n",
    "        x = self.fc(output)\n",
    "\n",
    "        return x, state, attention_weights\n",
    "\n",
    "#손실함수를 정의하는 함수입니다.\n",
    "def loss_function(real, pred):\n",
    "    mask = tf.math.logical_not(tf.math.equal(real, 0))\n",
    "    loss_ = tf.keras.losses.SparseCategoricalCrossentropy(from_logits=True, reduction='none')(real, pred)\n",
    "\n",
    "    mask = tf.cast(mask, dtype=loss_.dtype)\n",
    "    loss_ *= mask\n",
    "\n",
    "    return tf.reduce_mean(loss_)\n",
    "\n",
    "\n",
    "def train_step(input_, target_, hidden_encoder):\n",
    "    loss = 0\n",
    "\n",
    "    with tf.GradientTape() as tape:\n",
    "        output_encoder, hidden_encoder = encoder(input_, hidden_encoder)\n",
    "        hidden_decoder = hidden_encoder\n",
    "        input_decoder = tf.expand_dims([lan_target.word_index['<start>']] * BATCH_SIZE, 1)\n",
    "        for t in range(1, target_.shape[1]):\n",
    "            predictions, hidden_decoder, _ = decoder(input_decoder, hidden_decoder, output_encoder)\n",
    "            loss += loss_function(target_[:, t], predictions)\n",
    "            dec_input = tf.expand_dims(target_[:, t], 1)\n",
    "\n",
    "    loss_batch = (loss / int(target_.shape[1]))\n",
    "    trainable_variables = encoder.trainable_variables + decoder.trainable_variables\n",
    "    gradients = tape.gradient(loss, trainable_variables)\n",
    "    optimizer.apply_gradients(zip(gradients, trainable_variables))\n",
    "\n",
    "    return loss_batch\n",
    "\n",
    "\n",
    "encoder = Encoder(SIZE_INPUT, EMD_DM, UNITS, BATCH_SIZE)\n",
    "decoder = Decoder(SIZE_TARGET, EMD_DM, UNITS, BATCH_SIZE)\n",
    "optimizer = tf.keras.optimizers.Adam()\n",
    "\n",
    "# 학습을 진행합니다.\n",
    "for epoch in range(EPOCHS):\n",
    "    hidden_encoder = encoder.initialize_hidden_state()\n",
    "    total_loss = 0\n",
    "    for (batch, (input_data, target_data)) in enumerate(dataset.take(steps_per_epoch)):\n",
    "\n",
    "        batch_loss = train_step(input_data, target_data, hidden_encoder)\n",
    "        total_loss += batch_loss\n",
    "        if batch % 100 == 0:\n",
    "            print('Epoch {} Batch {} Loss {:.4f}'.format(epoch+1, batch, batch_loss.numpy()))\n",
    "    print(\"[EPOCH - {}] Total Loss: {}\".format(epoch+1, total_loss/steps_per_epoch))"
   ]
  },
  {
   "cell_type": "code",
   "execution_count": 21,
   "metadata": {},
   "outputs": [],
   "source": [
    "def expand_dim(_input):\n",
    "    return tf.expand_dims(_input, -1)\n",
    "\n",
    "def print_fn(_input):\n",
    "    print(_input.shape)\n",
    "    return _input\n",
    "\n",
    "def conv(_input):\n",
    "    out1 = tf.keras.layers.Conv1D(16, kernel_size=1, padding='same', strides=1)(_input)\n",
    "    out2 = tf.keras.layers.Conv1D(16, kernel_size=2, padding='same', strides=1)(_input)\n",
    "    out3 = tf.keras.layers.Conv1D(16, kernel_size=3, padding='same', strides=1)(_input)\n",
    "    concat = tf.keras.layers.concatenate([out1, out2, out3])\n",
    "    return concat"
   ]
  },
  {
   "cell_type": "markdown",
   "metadata": {},
   "source": [
    "model = tf.keras.Sequential([\n",
    "    tf.keras.layers.Embedding(max_features,embedding_size),\n",
    "    tf.keras.layers.Lambda(conv),\n",
    "    tf.keras.layers.Lambda(conv),\n",
    "    tf.keras.layers.GlobalMaxPool1D(),\n",
    "    tf.keras.layers.Dense(256, activation = tf.nn.relu),\n",
    "    tf.keras.layers.Dropout(0.05),\n",
    "    tf.keras.layers.Dense(1, activation = tf.nn.softmax),\n",
    "    ])\n"
   ]
  },
  {
   "cell_type": "markdown",
   "metadata": {},
   "source": [
    "# 모델 하나 만들어보기"
   ]
  },
  {
   "cell_type": "markdown",
   "metadata": {},
   "source": [
    "### LSTM"
   ]
  },
  {
   "cell_type": "code",
   "execution_count": 40,
   "metadata": {},
   "outputs": [
    {
     "name": "stdout",
     "output_type": "stream",
     "text": [
      "Train on 14185 samples, validate on 1577 samples\n",
      "Epoch 1/20\n",
      "14185/14185 [==============================] - 15s 1ms/sample - loss: 0.6933 - acc: 0.5000 - val_loss: 0.6932 - val_acc: 0.4997\n",
      "Epoch 2/20\n",
      "14185/14185 [==============================] - 13s 890us/sample - loss: 0.6933 - acc: 0.5000 - val_loss: 0.6932 - val_acc: 0.4997\n",
      "Epoch 00002: early stopping\n",
      "1577/1577 [==============================] - 1s 333us/sample - loss: 0.6932 - acc: 0.4997\n",
      "model accuracy:0.4996829330921173\n"
     ]
    }
   ],
   "source": [
    "# LSTM 1\n",
    "model = tf.keras.Sequential([\n",
    "    tf.keras.layers.Embedding(max_features, 32),\n",
    "    tf.keras.layers.LSTM(32,activation=tf.nn.tanh),\n",
    "    tf.keras.layers.Lambda(expand_dim),\n",
    "    tf.keras.layers.GlobalMaxPool1D(),\n",
    "    tf.keras.layers.Dense(1, activation = tf.nn.sigmoid),\n",
    "    ])\n",
    "\n",
    "model.compile(optimizer = 'adam', loss = 'binary_crossentropy', metrics=['acc'])\n",
    "\n",
    "early_stopping = EarlyStopping(monitor='val_acc', min_delta=0, patience=0, verbose=2, mode='auto')\n",
    "\n",
    "hist = model.fit(input_train, label_train, batch_size=500, epochs=20, validation_data=(input_test, label_test),\n",
    "                callbacks=[early_stopping])\n",
    "\n",
    "loss, score = model.evaluate(input_test, label_test)\n",
    "s1=score\n",
    "print('model accuracy:{}'.format(score))"
   ]
  },
  {
   "cell_type": "code",
   "execution_count": 23,
   "metadata": {},
   "outputs": [
    {
     "name": "stdout",
     "output_type": "stream",
     "text": [
      "Train on 14185 samples, validate on 1577 samples\n",
      "Epoch 1/20\n",
      "14185/14185 [==============================] - 6s 443us/sample - loss: 0.6932 - acc: 0.5013 - val_loss: 0.6932 - val_acc: 0.5003\n",
      "Epoch 2/20\n",
      "14185/14185 [==============================] - 6s 393us/sample - loss: 0.6932 - acc: 0.5030 - val_loss: 0.6932 - val_acc: 0.4997\n",
      "Epoch 00002: early stopping\n",
      "1577/1577 [==============================] - 1s 441us/sample - loss: 0.6932 - acc: 0.4997\n",
      "model accuracy:0.4996829330921173\n"
     ]
    }
   ],
   "source": [
    "# LSTM + conv\n",
    "model = tf.keras.Sequential([\n",
    "    tf.keras.layers.Embedding(max_features, embedding_size),\n",
    "    tf.keras.layers.LSTM(8,activation=tf.nn.tanh),\n",
    "    tf.keras.layers.Lambda(expand_dim),\n",
    "    tf.keras.layers.Lambda(conv),\n",
    "    tf.keras.layers.GlobalMaxPool1D(),\n",
    "    tf.keras.layers.Dense(1, activation = tf.nn.sigmoid),\n",
    "    ])\n",
    "\n",
    "model.compile(optimizer = 'adam', loss = 'binary_crossentropy', metrics=['acc'])\n",
    "\n",
    "early_stopping = EarlyStopping(monitor='val_acc', min_delta=0, patience=0, verbose=2, mode='auto')\n",
    "\n",
    "hist = model.fit(input_train, label_train, batch_size=500, epochs=20, validation_data=(input_test, label_test),\n",
    "                callbacks=[early_stopping])\n",
    "\n",
    "loss, score = model.evaluate(input_test, label_test)\n",
    "s2=score\n",
    "print('model accuracy:{}'.format(score))"
   ]
  },
  {
   "cell_type": "markdown",
   "metadata": {},
   "source": [
    "### GRU"
   ]
  },
  {
   "cell_type": "code",
   "execution_count": 24,
   "metadata": {},
   "outputs": [
    {
     "name": "stdout",
     "output_type": "stream",
     "text": [
      "Train on 14185 samples, validate on 1577 samples\n",
      "Epoch 1/20\n",
      "14185/14185 [==============================] - 5s 361us/sample - loss: 0.6933 - acc: 0.5042 - val_loss: 0.6936 - val_acc: 0.4997\n",
      "Epoch 2/20\n",
      "14185/14185 [==============================] - 4s 313us/sample - loss: 0.6933 - acc: 0.5007 - val_loss: 0.6932 - val_acc: 0.5003\n",
      "Epoch 3/20\n",
      "14185/14185 [==============================] - 4s 304us/sample - loss: 0.6932 - acc: 0.5026 - val_loss: 0.6933 - val_acc: 0.4997\n",
      "Epoch 00003: early stopping\n",
      "1577/1577 [==============================] - 1s 346us/sample - loss: 0.6933 - acc: 0.4997\n",
      "model accuracy:0.4996829330921173\n"
     ]
    }
   ],
   "source": [
    "# GRU 1\n",
    "model = tf.keras.Sequential([\n",
    "    tf.keras.layers.Embedding(max_features, embedding_size),\n",
    "    tf.keras.layers.GRU(8, activation = tf.nn.tanh),\n",
    "    tf.keras.layers.Flatten(),\n",
    "    tf.keras.layers.Dense(1, activation = tf.nn.sigmoid),\n",
    "    ])\n",
    "\n",
    "model.compile(optimizer = 'adam', loss = 'binary_crossentropy', metrics=['acc'])\n",
    "\n",
    "early_stopping = EarlyStopping(monitor='val_acc', min_delta=0, patience=0, verbose=2, mode='auto')\n",
    "\n",
    "hist = model.fit(input_train, label_train, batch_size=500, epochs=20, validation_data=(input_test, label_test),\n",
    "                callbacks=[early_stopping])\n",
    "\n",
    "loss, score = model.evaluate(input_test, label_test)\n",
    "s3=score\n",
    "\n",
    "print('model accuracy:{}'.format(score))"
   ]
  },
  {
   "cell_type": "code",
   "execution_count": 25,
   "metadata": {},
   "outputs": [
    {
     "name": "stdout",
     "output_type": "stream",
     "text": [
      "Train on 14185 samples, validate on 1577 samples\n",
      "Epoch 1/20\n",
      "14185/14185 [==============================] - 5s 379us/sample - loss: 0.6932 - acc: 0.5010 - val_loss: 0.6932 - val_acc: 0.5003\n",
      "Epoch 2/20\n",
      "14185/14185 [==============================] - 5s 339us/sample - loss: 0.6932 - acc: 0.4901 - val_loss: 0.6931 - val_acc: 0.5003\n",
      "Epoch 00002: early stopping\n",
      "1577/1577 [==============================] - 1s 401us/sample - loss: 0.6931 - acc: 0.5003\n",
      "model accuracy:0.5003170371055603\n"
     ]
    }
   ],
   "source": [
    "# GRU +conv\n",
    "model = tf.keras.Sequential([\n",
    "    tf.keras.layers.Embedding(max_features, embedding_size),\n",
    "    tf.keras.layers.GRU(8, activation = tf.nn.tanh),\n",
    "    tf.keras.layers.Lambda(expand_dim),\n",
    "    tf.keras.layers.Lambda(conv),\n",
    "    tf.keras.layers.GlobalMaxPool1D(),\n",
    "    tf.keras.layers.Dense(1, activation = tf.nn.sigmoid),\n",
    "    ])\n",
    "\n",
    "model.compile(optimizer = 'adam', loss = 'binary_crossentropy', metrics=['acc'])\n",
    "\n",
    "early_stopping = EarlyStopping(monitor='val_acc', min_delta=0, patience=0, verbose=2, mode='auto')\n",
    "\n",
    "hist = model.fit(input_train, label_train, batch_size=500, epochs=20, validation_data=(input_test, label_test),\n",
    "                callbacks=[early_stopping])\n",
    "\n",
    "loss, score = model.evaluate(input_test, label_test)\n",
    "s4=score\n",
    "\n",
    "print('model accuracy:{}'.format(score))"
   ]
  },
  {
   "cell_type": "markdown",
   "metadata": {},
   "source": [
    "### BiRNN(Bidirectional RNN)"
   ]
  },
  {
   "cell_type": "code",
   "execution_count": 44,
   "metadata": {},
   "outputs": [
    {
     "name": "stdout",
     "output_type": "stream",
     "text": [
      "Train on 14185 samples, validate on 1577 samples\n",
      "Epoch 1/20\n",
      "14185/14185 [==============================] - 25s 2ms/sample - loss: 0.6782 - acc: 0.7552 - val_loss: 0.6500 - val_acc: 0.8859\n",
      "Epoch 2/20\n",
      "14185/14185 [==============================] - 20s 1ms/sample - loss: 0.5815 - acc: 0.9069 - val_loss: 0.4748 - val_acc: 0.8998\n",
      "Epoch 3/20\n",
      "14185/14185 [==============================] - 20s 1ms/sample - loss: 1.1060 - acc: 0.9146 - val_loss: 0.7755 - val_acc: 0.9093\n",
      "Epoch 4/20\n",
      "14185/14185 [==============================] - 20s 1ms/sample - loss: 0.2694 - acc: 0.9367 - val_loss: 0.4032 - val_acc: 0.9144\n",
      "Epoch 5/20\n",
      "14185/14185 [==============================] - 20s 1ms/sample - loss: 0.2058 - acc: 0.9480 - val_loss: 0.7073 - val_acc: 0.9157\n",
      "Epoch 6/20\n",
      "14185/14185 [==============================] - 20s 1ms/sample - loss: 0.1590 - acc: 0.9584 - val_loss: 0.9923 - val_acc: 0.9093\n",
      "Epoch 00006: early stopping\n",
      "1577/1577 [==============================] - 1s 625us/sample - loss: 0.9923 - acc: 0.9093\n",
      "model accuracy:0.9093214869499207\n"
     ]
    }
   ],
   "source": [
    "# Bidirectional RNN 1층 (LSTM)\n",
    "model = tf.keras.Sequential([\n",
    "    tf.keras.layers.Embedding(max_features, embedding_size),\n",
    "    tf.keras.layers.Bidirectional(tf.keras.layers.LSTM(8,activation = tf.nn.relu,return_sequences = True)),\n",
    "    tf.keras.layers.GlobalMaxPooling1D(),\n",
    "    tf.keras.layers.Dense(1, activation = tf.nn.sigmoid),\n",
    "    ])\n",
    "\n",
    "model.compile(optimizer = 'adam', loss = 'binary_crossentropy', metrics=['acc'])\n",
    "\n",
    "early_stopping = EarlyStopping(monitor='val_acc', min_delta=0, patience=0, verbose=2, mode='auto')\n",
    "\n",
    "hist = model.fit(input_train, label_train, batch_size=500, epochs=20, validation_data=(input_test, label_test),\n",
    "                callbacks=[early_stopping])\n",
    "\n",
    "loss, score = model.evaluate(input_test, label_test)\n",
    "s5=score\n",
    "print('model accuracy:{}'.format(score))"
   ]
  },
  {
   "cell_type": "code",
   "execution_count": 27,
   "metadata": {},
   "outputs": [
    {
     "name": "stdout",
     "output_type": "stream",
     "text": [
      "Train on 14185 samples, validate on 1577 samples\n",
      "Epoch 1/20\n",
      "14185/14185 [==============================] - 14s 1ms/sample - loss: 0.6833 - acc: 0.7281 - val_loss: 0.6603 - val_acc: 0.8789\n",
      "Epoch 2/20\n",
      "14185/14185 [==============================] - 13s 893us/sample - loss: 0.5901 - acc: 0.8983 - val_loss: 0.4647 - val_acc: 0.8916\n",
      "Epoch 3/20\n",
      "14185/14185 [==============================] - 12s 834us/sample - loss: 656500.5956 - acc: 0.9086 - val_loss: 0.2565 - val_acc: 0.9106\n",
      "Epoch 4/20\n",
      "14185/14185 [==============================] - 12s 864us/sample - loss: 0.1905 - acc: 0.9449 - val_loss: 1.2486 - val_acc: 0.9125\n",
      "Epoch 5/20\n",
      "14185/14185 [==============================] - 12s 855us/sample - loss: 0.2362 - acc: 0.9573 - val_loss: 0.2035 - val_acc: 0.9131\n",
      "Epoch 6/20\n",
      "14185/14185 [==============================] - 12s 859us/sample - loss: 0.1108 - acc: 0.9688 - val_loss: 0.1995 - val_acc: 0.9106\n",
      "Epoch 00006: early stopping\n",
      "1577/1577 [==============================] - 1s 726us/sample - loss: 0.1995 - acc: 0.9106\n",
      "model accuracy:0.9105897545814514\n"
     ]
    }
   ],
   "source": [
    "# Bidirectional RNN 2층 (LSTM)\n",
    "\n",
    "model = tf.keras.Sequential([\n",
    "    tf.keras.layers.Embedding(max_features, embedding_size),\n",
    "    tf.keras.layers.Bidirectional(tf.keras.layers.LSTM(8,activation = tf.nn.relu,return_sequences = True)),\n",
    "    tf.keras.layers.GlobalMaxPooling1D(),\n",
    "    tf.keras.layers.Dense(20, activation=tf.nn.relu),\n",
    "    #tf.keras.layers.Dropout(0.05),\n",
    "    tf.keras.layers.Dense(1, activation = tf.nn.sigmoid),\n",
    "    ])\n",
    "\n",
    "model.compile(optimizer = 'adam', loss = 'binary_crossentropy', metrics=['acc'])\n",
    "\n",
    "early_stopping = EarlyStopping(monitor='val_acc', min_delta=0, patience=0, verbose=2, mode='auto')\n",
    "\n",
    "hist = model.fit(input_train, label_train, batch_size=500, epochs=20, validation_data=(input_test, label_test),\n",
    "                callbacks=[early_stopping])\n",
    "\n",
    "loss, score = model.evaluate(input_test, label_test)\n",
    "\n",
    "print('model accuracy:{}'.format(score))"
   ]
  },
  {
   "cell_type": "code",
   "execution_count": 28,
   "metadata": {},
   "outputs": [
    {
     "name": "stdout",
     "output_type": "stream",
     "text": [
      "Train on 14185 samples, validate on 1577 samples\n",
      "Epoch 1/20\n",
      "14185/14185 [==============================] - 14s 1ms/sample - loss: 0.6842 - acc: 0.6277 - val_loss: 0.6644 - val_acc: 0.8294\n",
      "Epoch 2/20\n",
      "14185/14185 [==============================] - 12s 876us/sample - loss: 23.8609 - acc: 0.8045 - val_loss: 0.4972 - val_acc: 0.8789\n",
      "Epoch 3/20\n",
      "14185/14185 [==============================] - 12s 850us/sample - loss: 894.1586 - acc: 0.8546 - val_loss: 0.3730 - val_acc: 0.8897\n",
      "Epoch 4/20\n",
      "14185/14185 [==============================] - 12s 863us/sample - loss: 1758657.7560 - acc: 0.9162 - val_loss: 52.3837 - val_acc: 0.9042\n",
      "Epoch 5/20\n",
      "14185/14185 [==============================] - 13s 890us/sample - loss: 3320.6312 - acc: 0.9387 - val_loss: 40.1386 - val_acc: 0.9030\n",
      "Epoch 00005: early stopping\n",
      "1577/1577 [==============================] - 1s 589us/sample - loss: 40.1386 - acc: 0.9030\n",
      "model accuracy:0.9029803276062012\n"
     ]
    }
   ],
   "source": [
    "# Bidirectional RNN dropout (LSTM)\n",
    "\n",
    "model = tf.keras.Sequential([\n",
    "    tf.keras.layers.Embedding(max_features, embedding_size),\n",
    "    tf.keras.layers.Bidirectional(tf.keras.layers.LSTM(8, activation = tf.nn.relu,return_sequences = True)),\n",
    "    tf.keras.layers.GlobalMaxPooling1D(),\n",
    "    tf.keras.layers.Dense(20, activation=tf.nn.relu),\n",
    "    tf.keras.layers.Dropout(0.4),\n",
    "    tf.keras.layers.Dense(1, activation = tf.nn.sigmoid),\n",
    "    ])\n",
    "\n",
    "model.compile(optimizer = 'adam', loss = 'binary_crossentropy', metrics=['acc'])\n",
    "\n",
    "early_stopping = EarlyStopping(monitor='val_acc', min_delta=0, patience=0, verbose=2, mode='auto')\n",
    "\n",
    "hist = model.fit(input_train, label_train, batch_size=500, epochs=20, validation_data=(input_test, label_test),\n",
    "                callbacks=[early_stopping])\n",
    "\n",
    "loss, score = model.evaluate(input_test, label_test)\n",
    "\n",
    "print('model accuracy:{}'.format(score))"
   ]
  },
  {
   "cell_type": "code",
   "execution_count": 29,
   "metadata": {},
   "outputs": [
    {
     "name": "stdout",
     "output_type": "stream",
     "text": [
      "Train on 14185 samples, validate on 1577 samples\n",
      "Epoch 1/20\n",
      "14185/14185 [==============================] - 15s 1ms/sample - loss: 0.6725 - acc: 0.7122 - val_loss: 0.6392 - val_acc: 0.8706\n",
      "Epoch 2/20\n",
      "14185/14185 [==============================] - 12s 839us/sample - loss: 0.5725 - acc: 0.9101 - val_loss: 0.4982 - val_acc: 0.9042\n",
      "Epoch 3/20\n",
      "14185/14185 [==============================] - 11s 786us/sample - loss: 0.3753 - acc: 0.9313 - val_loss: 0.3000 - val_acc: 0.9131\n",
      "Epoch 4/20\n",
      "14185/14185 [==============================] - 12s 813us/sample - loss: 0.2101 - acc: 0.9416 - val_loss: 0.2099 - val_acc: 0.9201\n",
      "Epoch 5/20\n",
      "14185/14185 [==============================] - 11s 767us/sample - loss: 0.1361 - acc: 0.9569 - val_loss: 0.1932 - val_acc: 0.9188\n",
      "Epoch 00005: early stopping\n",
      "1577/1577 [==============================] - 1s 620us/sample - loss: 0.1932 - acc: 0.9188\n",
      "model accuracy:0.9188332557678223\n"
     ]
    }
   ],
   "source": [
    "# Bidirectional RNN (GRU)\n",
    "\n",
    "model = tf.keras.Sequential([\n",
    "    tf.keras.layers.Embedding(max_features, embedding_size),\n",
    "    tf.keras.layers.Bidirectional(tf.keras.layers.GRU(8,activation = tf.nn.relu, return_sequences = True)),\n",
    "    tf.keras.layers.GlobalMaxPooling1D(),\n",
    "    tf.keras.layers.Dense(1, activation = tf.nn.sigmoid),\n",
    "    ])\n",
    "\n",
    "model.compile(optimizer = 'adam', loss = 'binary_crossentropy', metrics=['acc'])\n",
    "\n",
    "early_stopping = EarlyStopping(monitor='val_acc', min_delta=0, patience=0, verbose=2, mode='auto')\n",
    "\n",
    "hist = model.fit(input_train, label_train, batch_size=500, epochs=20, validation_data=(input_test, label_test),\n",
    "                callbacks=[early_stopping])\n",
    "\n",
    "loss, score = model.evaluate(input_test, label_test)\n",
    "s6=score\n",
    "print('model accuracy:{}'.format(score))"
   ]
  },
  {
   "cell_type": "markdown",
   "metadata": {},
   "source": [
    "### CNN을 활용한 문서분석"
   ]
  },
  {
   "cell_type": "code",
   "execution_count": 30,
   "metadata": {},
   "outputs": [
    {
     "name": "stdout",
     "output_type": "stream",
     "text": [
      "Train on 14185 samples, validate on 1577 samples\n",
      "Epoch 1/20\n",
      "14185/14185 [==============================] - 15s 1ms/sample - loss: 0.6784 - acc: 0.7186 - val_loss: 0.6326 - val_acc: 0.8814\n",
      "Epoch 2/20\n",
      "14185/14185 [==============================] - 13s 921us/sample - loss: 0.4773 - acc: 0.9131 - val_loss: 0.2923 - val_acc: 0.9062\n",
      "Epoch 3/20\n",
      "14185/14185 [==============================] - 13s 897us/sample - loss: 0.1886 - acc: 0.9376 - val_loss: 0.2005 - val_acc: 0.9150\n",
      "Epoch 4/20\n",
      "14185/14185 [==============================] - 13s 914us/sample - loss: 0.1024 - acc: 0.9648 - val_loss: 0.2017 - val_acc: 0.9144\n",
      "Epoch 00004: early stopping\n",
      "1577/1577 [==============================] - 1s 770us/sample - loss: 0.2017 - acc: 0.9144\n",
      "model accuracy:0.9143944382667542\n"
     ]
    }
   ],
   "source": [
    "# CNN + BiRNN(Bidirectional RNN), LSTM\n",
    "\n",
    "model = tf.keras.Sequential([\n",
    "    tf.keras.layers.Embedding(max_features, embedding_size),\n",
    "    tf.keras.layers.Bidirectional(tf.keras.layers.LSTM(8,activation = tf.nn.relu,return_sequences = True)),\n",
    "    tf.keras.layers.GlobalMaxPool1D(),\n",
    "    tf.keras.layers.Lambda(expand_dim),\n",
    "    tf.keras.layers.Lambda(conv),\n",
    "    tf.keras.layers.Flatten(),\n",
    "    tf.keras.layers.Dense(1, activation = tf.nn.sigmoid),\n",
    "    ])\n",
    "\n",
    "model.compile(optimizer = 'adam', loss = 'binary_crossentropy', metrics=['acc'])\n",
    "\n",
    "early_stopping = EarlyStopping(monitor='val_acc', min_delta=0, patience=0, verbose=2, mode='auto')\n",
    "\n",
    "hist = model.fit(input_train, label_train, batch_size=500, epochs=20, validation_data=(input_test, label_test),\n",
    "                callbacks=[early_stopping])\n",
    "\n",
    "loss, score = model.evaluate(input_test, label_test)\n",
    "s7=score\n",
    "print('model accuracy:{}'.format(score))"
   ]
  },
  {
   "cell_type": "code",
   "execution_count": 31,
   "metadata": {},
   "outputs": [
    {
     "name": "stdout",
     "output_type": "stream",
     "text": [
      "Train on 14185 samples, validate on 1577 samples\n",
      "Epoch 1/20\n",
      "14185/14185 [==============================] - 8s 538us/sample - loss: 0.6906 - acc: 0.5996 - val_loss: 0.6795 - val_acc: 0.7990\n",
      "Epoch 2/20\n",
      "14185/14185 [==============================] - 5s 375us/sample - loss: 0.6338 - acc: 0.8378 - val_loss: 0.5314 - val_acc: 0.8884\n",
      "Epoch 3/20\n",
      "14185/14185 [==============================] - 5s 346us/sample - loss: 0.3922 - acc: 0.9058 - val_loss: 0.2657 - val_acc: 0.9100\n",
      "Epoch 4/20\n",
      "14185/14185 [==============================] - 5s 341us/sample - loss: 0.2069 - acc: 0.9298 - val_loss: 0.1992 - val_acc: 0.9214\n",
      "Epoch 5/20\n",
      "14185/14185 [==============================] - 5s 338us/sample - loss: 0.1411 - acc: 0.9493 - val_loss: 0.1957 - val_acc: 0.9214\n",
      "Epoch 00005: early stopping\n",
      "1577/1577 [==============================] - 1s 680us/sample - loss: 0.1957 - acc: 0.9214\n",
      "model accuracy:0.9213696718215942\n"
     ]
    }
   ],
   "source": [
    "# CNN + BiRNN(Bidirectional RNN), GRU\n",
    "\n",
    "model = tf.keras.Sequential([\n",
    "    tf.keras.layers.Embedding(max_features, 31),\n",
    "    tf.keras.layers.Bidirectional(tf.keras.layers.GRU(8,activation = tf.nn.relu,return_sequences = True, dropout=0.5)),\n",
    "    tf.keras.layers.GlobalMaxPool1D(),\n",
    "    tf.keras.layers.Lambda(expand_dim),\n",
    "    tf.keras.layers.Lambda(conv),\n",
    "    tf.keras.layers.Flatten(),\n",
    "    tf.keras.layers.Dense(1, activation = tf.nn.sigmoid),\n",
    "    ])\n",
    "\n",
    "model.compile(optimizer = 'adam', loss = 'binary_crossentropy', metrics=['acc'])\n",
    "\n",
    "early_stopping = EarlyStopping(monitor='val_acc', min_delta=0, patience=0, verbose=2, mode='auto')\n",
    "\n",
    "hist = model.fit(input_train, label_train, batch_size=500, epochs=20, validation_data=(input_test, label_test),\n",
    "                callbacks=[early_stopping])\n",
    "\n",
    "loss, score = model.evaluate(input_test, label_test)\n",
    "s8=score\n",
    "print('model accuracy:{}'.format(score))"
   ]
  },
  {
   "cell_type": "markdown",
   "metadata": {},
   "source": [
    "adam = optimizers.Adam(lr = 0.001)"
   ]
  },
  {
   "cell_type": "markdown",
   "metadata": {},
   "source": [
    "s1=0.801787\n",
    "s2=0.803981\n",
    "s3=0.801381\n",
    "s4=0.805037\n",
    "s5=0.80528\n",
    "s6=0.809748\n",
    "s7=0.807799\n",
    "s8=0.804387"
   ]
  },
  {
   "cell_type": "code",
   "execution_count": 32,
   "metadata": {},
   "outputs": [
    {
     "data": {
      "text/html": [
       "<div>\n",
       "<style scoped>\n",
       "    .dataframe tbody tr th:only-of-type {\n",
       "        vertical-align: middle;\n",
       "    }\n",
       "\n",
       "    .dataframe tbody tr th {\n",
       "        vertical-align: top;\n",
       "    }\n",
       "\n",
       "    .dataframe thead th {\n",
       "        text-align: right;\n",
       "    }\n",
       "</style>\n",
       "<table border=\"1\" class=\"dataframe\">\n",
       "  <thead>\n",
       "    <tr style=\"text-align: right;\">\n",
       "      <th></th>\n",
       "      <th>LSTM</th>\n",
       "      <th>LSTM+CNN</th>\n",
       "      <th>GRU</th>\n",
       "      <th>GRU+CNN</th>\n",
       "      <th>BiRNN(LSTM)</th>\n",
       "      <th>BiRNN(GRU)</th>\n",
       "      <th>CNN+BiRNN(LSTM)</th>\n",
       "      <th>CNN+BiRNN(GRU)</th>\n",
       "    </tr>\n",
       "  </thead>\n",
       "  <tbody>\n",
       "    <tr>\n",
       "      <td>0</td>\n",
       "      <td>0.500317</td>\n",
       "      <td>0.499683</td>\n",
       "      <td>0.499683</td>\n",
       "      <td>0.500317</td>\n",
       "      <td>0.906785</td>\n",
       "      <td>0.918833</td>\n",
       "      <td>0.914394</td>\n",
       "      <td>0.92137</td>\n",
       "    </tr>\n",
       "  </tbody>\n",
       "</table>\n",
       "</div>"
      ],
      "text/plain": [
       "       LSTM  LSTM+CNN       GRU   GRU+CNN  BiRNN(LSTM)  BiRNN(GRU)  \\\n",
       "0  0.500317  0.499683  0.499683  0.500317     0.906785    0.918833   \n",
       "\n",
       "   CNN+BiRNN(LSTM)  CNN+BiRNN(GRU)  \n",
       "0         0.914394         0.92137  "
      ]
     },
     "execution_count": 32,
     "metadata": {},
     "output_type": "execute_result"
    }
   ],
   "source": [
    "df_model=pd.DataFrame([[s1,s2,s3,s4,s5,s6,s7,s8]],columns=['LSTM','LSTM+CNN','GRU','GRU+CNN','BiRNN(LSTM)',\n",
    "                                                         'BiRNN(GRU)','CNN+BiRNN(LSTM)','CNN+BiRNN(GRU)'])\n",
    "df_model"
   ]
  },
  {
   "cell_type": "code",
   "execution_count": 33,
   "metadata": {},
   "outputs": [
    {
     "data": {
      "text/html": [
       "<div>\n",
       "<style scoped>\n",
       "    .dataframe tbody tr th:only-of-type {\n",
       "        vertical-align: middle;\n",
       "    }\n",
       "\n",
       "    .dataframe tbody tr th {\n",
       "        vertical-align: top;\n",
       "    }\n",
       "\n",
       "    .dataframe thead th {\n",
       "        text-align: right;\n",
       "    }\n",
       "</style>\n",
       "<table border=\"1\" class=\"dataframe\">\n",
       "  <thead>\n",
       "    <tr style=\"text-align: right;\">\n",
       "      <th></th>\n",
       "      <th>0</th>\n",
       "    </tr>\n",
       "  </thead>\n",
       "  <tbody>\n",
       "    <tr>\n",
       "      <td>LSTM+CNN</td>\n",
       "      <td>0.499683</td>\n",
       "    </tr>\n",
       "    <tr>\n",
       "      <td>GRU</td>\n",
       "      <td>0.499683</td>\n",
       "    </tr>\n",
       "    <tr>\n",
       "      <td>LSTM</td>\n",
       "      <td>0.500317</td>\n",
       "    </tr>\n",
       "    <tr>\n",
       "      <td>GRU+CNN</td>\n",
       "      <td>0.500317</td>\n",
       "    </tr>\n",
       "    <tr>\n",
       "      <td>BiRNN(LSTM)</td>\n",
       "      <td>0.906785</td>\n",
       "    </tr>\n",
       "    <tr>\n",
       "      <td>CNN+BiRNN(LSTM)</td>\n",
       "      <td>0.914394</td>\n",
       "    </tr>\n",
       "    <tr>\n",
       "      <td>BiRNN(GRU)</td>\n",
       "      <td>0.918833</td>\n",
       "    </tr>\n",
       "    <tr>\n",
       "      <td>CNN+BiRNN(GRU)</td>\n",
       "      <td>0.921370</td>\n",
       "    </tr>\n",
       "  </tbody>\n",
       "</table>\n",
       "</div>"
      ],
      "text/plain": [
       "                        0\n",
       "LSTM+CNN         0.499683\n",
       "GRU              0.499683\n",
       "LSTM             0.500317\n",
       "GRU+CNN          0.500317\n",
       "BiRNN(LSTM)      0.906785\n",
       "CNN+BiRNN(LSTM)  0.914394\n",
       "BiRNN(GRU)       0.918833\n",
       "CNN+BiRNN(GRU)   0.921370"
      ]
     },
     "execution_count": 33,
     "metadata": {},
     "output_type": "execute_result"
    }
   ],
   "source": [
    "df_=df_model.T.sort_values(0)\n",
    "df_"
   ]
  },
  {
   "cell_type": "code",
   "execution_count": 35,
   "metadata": {},
   "outputs": [
    {
     "data": {
      "image/png": "[encoded data removed]",
      "text/plain": [
       "<Figure size 400x1000 with 1 Axes>"
      ]
     },
     "metadata": {},
     "output_type": "display_data"
    }
   ],
   "source": [
    "import matplotlib\n",
    "import matplotlib.pylab as plt\n",
    "%matplotlib inline\n",
    "from matplotlib import style\n",
    "\n",
    "style.use('default')\n",
    "\n",
    "ypos = np.arange(8)\n",
    "fig = plt.figure(figsize=(4, 10))\n",
    "ax = fig.add_subplot(111)\n",
    "\n",
    "\n",
    "rects = plt.barh(ypos, df_[0], align='center', height=0.5)\n",
    "\n",
    "for i, rect in enumerate(rects):\n",
    "    ax.text(0.97 * rect.get_width(), rect.get_y() + rect.get_height() / 2.0, str(np.round(df_[0][i]*100,1)) + '%', ha='right', va='center')\n",
    "\n",
    "\n",
    "\n",
    "plt.title(\"Accuracy Comparison\")\n",
    "#matplotlib.rc(['xtick','ytick'], labelsize=12) \n",
    "\n",
    "plt.yticks(ypos, df_.index)\n",
    "#plt.xlim(0.65, 0.85)\n",
    "plt.xlabel(\"Model\")\n",
    "plt.ylabel(\"accuracy\")\n",
    "plt.show()"
   ]
  },
  {
   "cell_type": "code",
   "execution_count": null,
   "metadata": {},
   "outputs": [],
   "source": [
    "# 5. 모델 학습 과정 표시하기\n",
    "%matplotlib inline\n",
    "import matplotlib.pyplot as plt\n",
    "\n",
    "fig, loss_ax = plt.subplots()\n",
    "\n",
    "acc_ax = loss_ax.twinx()\n",
    "\n",
    "loss_ax.plot(hist.history['loss'], 'y', label='train loss')\n",
    "loss_ax.plot(hist.history['val_loss'], 'r', label='val loss')\n",
    "\n",
    "acc_ax.plot(hist.history['acc'], 'b', label='train acc')\n",
    "acc_ax.plot(hist.history['val_acc'], 'g', label='val acc')\n",
    "\n",
    "loss_ax.set_xlabel('epoch')\n",
    "loss_ax.set_ylabel('loss')\n",
    "acc_ax.set_ylabel('accuray')\n",
    "\n",
    "loss_ax.legend(loc='upper left')\n",
    "acc_ax.legend(loc='lower left')\n",
    "\n",
    "plt.show()"
   ]
  },
  {
   "cell_type": "markdown",
   "metadata": {},
   "source": [
    "saver = tf.train.Saver()\n",
    "sess = tf.Session()\n",
    "sess.run(tf.global_variables_initializer())\n",
    "saver.save(sess, 'my_test_model')"
   ]
  },
  {
   "cell_type": "code",
   "execution_count": 15,
   "metadata": {},
   "outputs": [],
   "source": [
    "import numpy\n",
    "from sklearn.model_selection import GridSearchCV\n",
    "from tensorflow.keras.models import Sequential\n",
    "from tensorflow.keras.layers import Dense\n",
    "from tensorflow.keras.wrappers.scikit_learn import KerasClassifier\n",
    "from tensorflow.keras.optimizers import Adam"
   ]
  },
  {
   "cell_type": "code",
   "execution_count": 11,
   "metadata": {},
   "outputs": [],
   "source": [
    "from tensorflow.keras.optimizers import Adadelta"
   ]
  },
  {
   "cell_type": "code",
   "execution_count": 12,
   "metadata": {},
   "outputs": [],
   "source": [
    "from tensorflow.keras.layers import Dropout\n",
    "#from tensorflow.keras.constraints import maxnorm"
   ]
  },
  {
   "cell_type": "markdown",
   "metadata": {},
   "source": [
    "# Use scikit-learn to grid search the batch size and epochs"
   ]
  },
  {
   "cell_type": "code",
   "execution_count": 30,
   "metadata": {},
   "outputs": [
    {
     "name": "stderr",
     "output_type": "stream",
     "text": [
      "C:\\Users\\USER\\Anaconda3\\lib\\site-packages\\sklearn\\model_selection\\_split.py:1978: FutureWarning: The default value of cv will change from 3 to 5 in version 0.22. Specify it explicitly to silence this warning.\n",
      "  warnings.warn(CV_WARNING, FutureWarning)\n",
      "C:\\Users\\USER\\Anaconda3\\lib\\site-packages\\joblib\\externals\\loky\\process_executor.py:706: UserWarning: A worker stopped while some jobs were given to the executor. This can be caused by a too short worker timeout or by a memory leak.\n",
      "  \"timeout or by a memory leak.\", UserWarning\n"
     ]
    },
    {
     "name": "stdout",
     "output_type": "stream",
     "text": [
      "Epoch 00005: early stopping\n",
      "Best: 0.794108 using {'batch_size': 500}\n",
      "0.793041 (0.003794) with: {'batch_size': 100}\n",
      "0.793365 (0.002985) with: {'batch_size': 200}\n",
      "0.792645 (0.000485) with: {'batch_size': 300}\n",
      "0.792513 (0.003537) with: {'batch_size': 400}\n",
      "0.794108 (0.001914) with: {'batch_size': 500}\n",
      "0.595722 (0.136622) with: {'batch_size': 600}\n"
     ]
    }
   ],
   "source": [
    "# Function to create model, required for KerasClassifier\n",
    "def create_model():\n",
    "    # create model\n",
    "    model = Sequential()\n",
    "    model.add(tf.keras.layers.Embedding(max_features, embedding_size))\n",
    "    model.add(tf.keras.layers.GRU(8, activation = tf.nn.tanh))\n",
    "    model.add(tf.keras.layers.Flatten())\n",
    "    model.add(Dense(1, activation='sigmoid'))\n",
    "    # Compile model\n",
    "    model.compile(loss='binary_crossentropy', optimizer='adam', metrics=['accuracy'])\n",
    "    return model\n",
    "\n",
    "# create model\n",
    "model = KerasClassifier(build_fn=create_model, epochs=10, verbose=0)\n",
    "\n",
    "# define the grid search parameters\n",
    "batch_size = [100, 200, 300, 400, 500, 600]\n",
    "param_grid = dict(batch_size=batch_size)\n",
    "grid = GridSearchCV(estimator=model, param_grid=param_grid, n_jobs=-1)\n",
    "\n",
    "early_stopping = EarlyStopping(monitor='val_acc', min_delta=0, patience=0, verbose=2, mode='auto')\n",
    "grid_result = grid.fit(input_train, label_train, validation_data=(input_test, label_test), callbacks=[early_stopping])\n",
    "\n",
    "# summarize results\n",
    "print(\"Best: %f using %s\" % (grid_result.best_score_, grid_result.best_params_))\n",
    "means = grid_result.cv_results_['mean_test_score']\n",
    "stds = grid_result.cv_results_['std_test_score']\n",
    "params = grid_result.cv_results_['params']\n",
    "for mean, stdev, param in zip(means, stds, params):\n",
    "    print(\"%f (%f) with: %r\" % (mean, stdev, param))"
   ]
  },
  {
   "cell_type": "markdown",
   "metadata": {},
   "source": [
    "# Use scikit-learn to grid search the dropout rate"
   ]
  },
  {
   "cell_type": "code",
   "execution_count": 13,
   "metadata": {},
   "outputs": [
    {
     "name": "stderr",
     "output_type": "stream",
     "text": [
      "C:\\Users\\USER\\Anaconda3\\lib\\site-packages\\sklearn\\model_selection\\_split.py:1978: FutureWarning: The default value of cv will change from 3 to 5 in version 0.22. Specify it explicitly to silence this warning.\n",
      "  warnings.warn(CV_WARNING, FutureWarning)\n",
      "C:\\Users\\USER\\Anaconda3\\lib\\site-packages\\joblib\\externals\\loky\\process_executor.py:706: UserWarning: A worker stopped while some jobs were given to the executor. This can be caused by a too short worker timeout or by a memory leak.\n",
      "  \"timeout or by a memory leak.\", UserWarning\n"
     ]
    },
    {
     "name": "stdout",
     "output_type": "stream",
     "text": [
      "WARNING:tensorflow:From C:\\Users\\USER\\Anaconda3\\lib\\site-packages\\tensorflow\\python\\keras\\initializers.py:119: calling RandomUniform.__init__ (from tensorflow.python.ops.init_ops) with dtype is deprecated and will be removed in a future version.\n",
      "Instructions for updating:\n",
      "Call initializer instance with the dtype argument instead of passing it to the constructor\n",
      "WARNING:tensorflow:From C:\\Users\\USER\\Anaconda3\\lib\\site-packages\\tensorflow\\python\\ops\\init_ops.py:1251: calling VarianceScaling.__init__ (from tensorflow.python.ops.init_ops) with dtype is deprecated and will be removed in a future version.\n",
      "Instructions for updating:\n",
      "Call initializer instance with the dtype argument instead of passing it to the constructor\n",
      "WARNING:tensorflow:From C:\\Users\\USER\\Anaconda3\\lib\\site-packages\\tensorflow\\python\\ops\\nn_impl.py:180: add_dispatch_support.<locals>.wrapper (from tensorflow.python.ops.array_ops) is deprecated and will be removed in a future version.\n",
      "Instructions for updating:\n",
      "Use tf.where in 2.0, which has the same broadcast rule as np.where\n",
      "Epoch 00005: early stopping\n",
      "Best: 0.788569 using {'dropout_rate': 0.0}\n",
      "0.788569 (0.003231) with: {'dropout_rate': 0.0}\n",
      "0.692433 (0.137787) with: {'dropout_rate': 0.1}\n",
      "0.697325 (0.140192) with: {'dropout_rate': 0.2}\n",
      "0.597197 (0.140306) with: {'dropout_rate': 0.3}\n",
      "0.500102 (0.001836) with: {'dropout_rate': 0.4}\n",
      "0.698920 (0.140109) with: {'dropout_rate': 0.5}\n",
      "0.597928 (0.139466) with: {'dropout_rate': 0.6}\n",
      "0.499478 (0.001716) with: {'dropout_rate': 0.7}\n",
      "0.498555 (0.000461) with: {'dropout_rate': 0.8}\n",
      "0.499442 (0.001693) with: {'dropout_rate': 0.9}\n"
     ]
    }
   ],
   "source": [
    "# Function to create model, required for KerasClassifier\n",
    "def create_model(dropout_rate=0.0):\n",
    "    # create model\n",
    "    model = Sequential()\n",
    "    model.add(tf.keras.layers.Embedding(max_features, embedding_size))\n",
    "    model.add(tf.keras.layers.GRU(8, activation = tf.nn.tanh, dropout=dropout_rate))\n",
    "    model.add(tf.keras.layers.Flatten())\n",
    "    model.add(Dense(1, activation='sigmoid'))\n",
    "    model.compile(loss='binary_crossentropy', optimizer='adam', metrics=['accuracy'])\n",
    "    return model\n",
    "\n",
    "# create model\n",
    "model = KerasClassifier(build_fn=create_model, epochs=10, batch_size=500, verbose=0)\n",
    "# define the grid search parameters\n",
    "\n",
    "dropout_rate = [0.0, 0.1, 0.2, 0.3, 0.4, 0.5, 0.6]\n",
    "param_grid = dict(dropout_rate=dropout_rate)\n",
    "grid = GridSearchCV(estimator=model, param_grid=param_grid, n_jobs=-1)\n",
    "\n",
    "early_stopping = EarlyStopping(monitor='val_acc', min_delta=0, patience=0, verbose=2, mode='auto')\n",
    "grid_result = grid.fit(input_train, label_train, validation_data=(input_test, label_test), callbacks=[early_stopping])\n",
    "\n",
    "# summarize results\n",
    "print(\"Best: %f using %s\" % (grid_result.best_score_, grid_result.best_params_))\n",
    "means = grid_result.cv_results_['mean_test_score']\n",
    "stds = grid_result.cv_results_['std_test_score']\n",
    "params = grid_result.cv_results_['params']\n",
    "for mean, stdev, param in zip(means, stds, params):\n",
    "    print(\"%f (%f) with: %r\" % (mean, stdev, param))"
   ]
  },
  {
   "cell_type": "markdown",
   "metadata": {},
   "source": [
    "# Use scikit-learn to grid search the weight initialization"
   ]
  },
  {
   "cell_type": "code",
   "execution_count": 13,
   "metadata": {},
   "outputs": [
    {
     "name": "stderr",
     "output_type": "stream",
     "text": [
      "C:\\Users\\USER\\Anaconda3\\lib\\site-packages\\sklearn\\model_selection\\_split.py:1978: FutureWarning: The default value of cv will change from 3 to 5 in version 0.22. Specify it explicitly to silence this warning.\n",
      "  warnings.warn(CV_WARNING, FutureWarning)\n",
      "C:\\Users\\USER\\Anaconda3\\lib\\site-packages\\joblib\\externals\\loky\\process_executor.py:706: UserWarning: A worker stopped while some jobs were given to the executor. This can be caused by a too short worker timeout or by a memory leak.\n",
      "  \"timeout or by a memory leak.\", UserWarning\n"
     ]
    },
    {
     "name": "stdout",
     "output_type": "stream",
     "text": [
      "WARNING:tensorflow:From C:\\Users\\USER\\Anaconda3\\lib\\site-packages\\tensorflow\\python\\keras\\initializers.py:119: calling RandomUniform.__init__ (from tensorflow.python.ops.init_ops) with dtype is deprecated and will be removed in a future version.\n",
      "Instructions for updating:\n",
      "Call initializer instance with the dtype argument instead of passing it to the constructor\n",
      "WARNING:tensorflow:From C:\\Users\\USER\\Anaconda3\\lib\\site-packages\\tensorflow\\python\\ops\\init_ops.py:1251: calling VarianceScaling.__init__ (from tensorflow.python.ops.init_ops) with dtype is deprecated and will be removed in a future version.\n",
      "Instructions for updating:\n",
      "Call initializer instance with the dtype argument instead of passing it to the constructor\n",
      "WARNING:tensorflow:From C:\\Users\\USER\\Anaconda3\\lib\\site-packages\\tensorflow\\python\\ops\\nn_impl.py:180: add_dispatch_support.<locals>.wrapper (from tensorflow.python.ops.array_ops) is deprecated and will be removed in a future version.\n",
      "Instructions for updating:\n",
      "Use tf.where in 2.0, which has the same broadcast rule as np.where\n",
      "Epoch 00005: early stopping\n",
      "Best: 0.788569 using {'dropout_rate': 0.0}\n",
      "0.788569 (0.003231) with: {'dropout_rate': 0.0}\n",
      "0.692433 (0.137787) with: {'dropout_rate': 0.1}\n",
      "0.697325 (0.140192) with: {'dropout_rate': 0.2}\n",
      "0.597197 (0.140306) with: {'dropout_rate': 0.3}\n",
      "0.500102 (0.001836) with: {'dropout_rate': 0.4}\n",
      "0.698920 (0.140109) with: {'dropout_rate': 0.5}\n",
      "0.597928 (0.139466) with: {'dropout_rate': 0.6}\n",
      "0.499478 (0.001716) with: {'dropout_rate': 0.7}\n",
      "0.498555 (0.000461) with: {'dropout_rate': 0.8}\n",
      "0.499442 (0.001693) with: {'dropout_rate': 0.9}\n"
     ]
    }
   ],
   "source": [
    "# Function to create model, required for KerasClassifier\n",
    "def create_model(init_mode='uniform'):\n",
    "    # create model\n",
    "    model = Sequential()\n",
    "    model.add(tf.keras.layers.Embedding(max_features, embedding_size))\n",
    "    model.add(tf.keras.layers.GRU(8, activation = tf.nn.tanh, recurrent_initializer=init_mode))\n",
    "    model.add(tf.keras.layers.Flatten())\n",
    "    model.add(Dense(1, activation='sigmoid'))\n",
    "    model.compile(loss='binary_crossentropy', optimizer='adam', metrics=['accuracy'])\n",
    "    return model\n",
    "\n",
    "# create model\n",
    "model = KerasClassifier(build_fn=create_model, epochs=10, batch_size=500, verbose=0)\n",
    "# define the grid search parameters\n",
    "\n",
    "init_mode = ['uniform', 'lecun_uniform', 'normal', 'zero', 'glorot_normal', 'glorot_uniform', 'he_normal', 'he_uniform']\n",
    "param_grid = dict(dropout_rate=dropout_rate)\n",
    "grid = GridSearchCV(estimator=model, param_grid=param_grid, n_jobs=-1)\n",
    "\n",
    "early_stopping = EarlyStopping(monitor='val_acc', min_delta=0, patience=0, verbose=2, mode='auto')\n",
    "grid_result = grid.fit(input_train, label_train, validation_data=(input_test, label_test), callbacks=[early_stopping])\n",
    "\n",
    "# summarize results\n",
    "print(\"Best: %f using %s\" % (grid_result.best_score_, grid_result.best_params_))\n",
    "means = grid_result.cv_results_['mean_test_score']\n",
    "stds = grid_result.cv_results_['std_test_score']\n",
    "params = grid_result.cv_results_['params']\n",
    "for mean, stdev, param in zip(means, stds, params):\n",
    "    print(\"%f (%f) with: %r\" % (mean, stdev, param))"
   ]
  },
  {
   "cell_type": "markdown",
   "metadata": {},
   "source": [
    "# Use scikit-learn to grid search the number of neurons"
   ]
  },
  {
   "cell_type": "code",
   "execution_count": 16,
   "metadata": {},
   "outputs": [
    {
     "name": "stderr",
     "output_type": "stream",
     "text": [
      "C:\\Users\\USER\\Anaconda3\\lib\\site-packages\\sklearn\\model_selection\\_split.py:1978: FutureWarning: The default value of cv will change from 3 to 5 in version 0.22. Specify it explicitly to silence this warning.\n",
      "  warnings.warn(CV_WARNING, FutureWarning)\n",
      "C:\\Users\\USER\\Anaconda3\\lib\\site-packages\\joblib\\externals\\loky\\process_executor.py:706: UserWarning: A worker stopped while some jobs were given to the executor. This can be caused by a too short worker timeout or by a memory leak.\n",
      "  \"timeout or by a memory leak.\", UserWarning\n"
     ]
    },
    {
     "name": "stdout",
     "output_type": "stream",
     "text": [
      "Epoch 00004: early stopping\n",
      "Best: 0.790871 using {'neurons': 8}\n",
      "0.673705 (0.123287) with: {'neurons': 1}\n",
      "0.790871 (0.003993) with: {'neurons': 8}\n",
      "0.695826 (0.136361) with: {'neurons': 16}\n",
      "0.790115 (0.000978) with: {'neurons': 32}\n",
      "0.790511 (0.003510) with: {'neurons': 64}\n",
      "0.788041 (0.005483) with: {'neurons': 128}\n"
     ]
    }
   ],
   "source": [
    "def create_model(neurons=1):\n",
    "    # create model\n",
    "    model = Sequential()\n",
    "    model.add(tf.keras.layers.Embedding(max_features, embedding_size))\n",
    "    model.add(tf.keras.layers.GRU(neurons, activation = tf.nn.tanh))\n",
    "    model.add(tf.keras.layers.Flatten())\n",
    "    model.add(Dense(1, activation='sigmoid'))\n",
    "    model.compile(loss='binary_crossentropy', optimizer='adam', metrics=['accuracy'])\n",
    "    return model\n",
    "\n",
    "# create model\n",
    "model = KerasClassifier(build_fn=create_model, epochs=10, batch_size=500, verbose=0)\n",
    "# define the grid search parameters\n",
    "neurons = [1, 8, 16, 32, 64, 128]\n",
    "param_grid = dict(neurons=neurons)\n",
    "grid = GridSearchCV(estimator=model, param_grid=param_grid, n_jobs=-1)\n",
    "\n",
    "early_stopping = EarlyStopping(monitor='val_acc', min_delta=0, patience=0, verbose=2, mode='auto')\n",
    "grid_result = grid.fit(input_train, label_train, validation_data=(input_test, label_test), callbacks=[early_stopping])\n",
    "\n",
    "# summarize results\n",
    "print(\"Best: %f using %s\" % (grid_result.best_score_, grid_result.best_params_))\n",
    "means = grid_result.cv_results_['mean_test_score']\n",
    "stds = grid_result.cv_results_['std_test_score']\n",
    "params = grid_result.cv_results_['params']\n",
    "for mean, stdev, param in zip(means, stds, params):\n",
    "    print(\"%f (%f) with: %r\" % (mean, stdev, param))"
   ]
  },
  {
   "cell_type": "markdown",
   "metadata": {},
   "source": [
    "# 씅의 그리드서치"
   ]
  },
  {
   "cell_type": "code",
   "execution_count": null,
   "metadata": {},
   "outputs": [],
   "source": [
    "# Function to create model, required for KerasClassifier\n",
    "def create_model(neurons=1, dropout_rate=0.0, activation='relu'):\n",
    "    # create model\n",
    "    model = Sequential()\n",
    "    model.add(tf.keras.layers.Embedding(max_features, embedding_size))\n",
    "    model.add(tf.keras.layers.Bidirectional(tf.keras.layers.GRU(neurons, activation = activation,\n",
    "                                                                return_sequences = True, dropout=dropout_rate)))\n",
    "    model.add(tf.keras.layers.GlobalMaxPool1D())\n",
    "    model.add(Dense(1, activation='sigmoid'))\n",
    "    model.compile(loss='binary_crossentropy', optimizer='adam', metrics=['accuracy'])\n",
    "    return model\n",
    "\n",
    "# create model\n",
    "model = KerasClassifier(build_fn=create_model, epochs=10, batch_size=500, verbose=0)\n",
    "\n",
    "# define the grid search parameters\n",
    "neurons = [8, 16, 32, 64]\n",
    "dropout_rate = [0.0, 0.1, 0.2]\n",
    "\n",
    "param_grid = dict(neurons=neurons, dropout_rate=dropout_rate, activation=activation)\n",
    "grid = GridSearchCV(estimator=model, param_grid=param_grid, n_jobs=-1)\n",
    "\n",
    "early_stopping = EarlyStopping(monitor='val_acc', min_delta=0, patience=0, verbose=2, mode='auto')\n",
    "grid_result = grid.fit(input_train, label_train, validation_data=(input_test, label_test), callbacks=[early_stopping])\n",
    "\n",
    "# summarize results\n",
    "print(\"Best: %f using %s\" % (grid_result.best_score_, grid_result.best_params_))\n",
    "means = grid_result.cv_results_['mean_test_score']\n",
    "stds = grid_result.cv_results_['std_test_score']\n",
    "params = grid_result.cv_results_['params']\n",
    "for mean, stdev, param in zip(means, stds, params):\n",
    "    print(\"%f (%f) with: %r\" % (mean, stdev, param))"
   ]
  },
  {
   "cell_type": "markdown",
   "metadata": {},
   "source": [
    "# 최종모델"
   ]
  },
  {
   "cell_type": "code",
   "execution_count": 50,
   "metadata": {
    "scrolled": false
   },
   "outputs": [
    {
     "name": "stdout",
     "output_type": "stream",
     "text": [
      "Train on 14185 samples, validate on 1577 samples\n",
      "Epoch 1/20\n",
      "14185/14185 [==============================] - 13s 937us/sample - loss: 0.6885 - acc: 0.6162 - val_loss: 0.6715 - val_acc: 0.8713\n",
      "Epoch 2/20\n",
      "14185/14185 [==============================] - 9s 632us/sample - loss: 0.6079 - acc: 0.8699 - val_loss: 0.4852 - val_acc: 0.8916\n",
      "Epoch 3/20\n",
      "14185/14185 [==============================] - 9s 659us/sample - loss: 0.3533 - acc: 0.8883 - val_loss: 0.2530 - val_acc: 0.9106\n",
      "Epoch 4/20\n",
      "14185/14185 [==============================] - 10s 681us/sample - loss: 0.1910 - acc: 0.9299 - val_loss: 0.1931 - val_acc: 0.9245\n",
      "Epoch 5/20\n",
      "14185/14185 [==============================] - 10s 690us/sample - loss: 0.1291 - acc: 0.9540 - val_loss: 0.1892 - val_acc: 0.9233\n",
      "Epoch 00005: early stopping\n",
      "1577/1577 [==============================] - 1s 839us/sample - loss: 0.1892 - acc: 0.9233\n",
      "model accuracy:0.9232720136642456\n"
     ]
    }
   ],
   "source": [
    "# CNN + BiRNN(Bidirectional RNN), GRU\n",
    "\n",
    "model = tf.keras.Sequential([\n",
    "    tf.keras.layers.Embedding(max_features, 32),\n",
    "    tf.keras.layers.Bidirectional(tf.keras.layers.GRU(8,activation = tf.nn.relu, return_sequences = True, dropout=0.4)),\n",
    "    tf.keras.layers.GlobalMaxPool1D(),\n",
    "    tf.keras.layers.Lambda(expand_dim),\n",
    "    tf.keras.layers.Lambda(conv),\n",
    "    tf.keras.layers.Flatten(),\n",
    "    tf.keras.layers.Dense(1, activation = tf.nn.sigmoid),\n",
    "    ])\n",
    "\n",
    "model.compile(optimizer = 'adam', loss = 'binary_crossentropy', metrics=['acc'])\n",
    "\n",
    "early_stopping = EarlyStopping(monitor='val_acc', min_delta=0, patience=0, verbose=2, mode='auto')\n",
    "\n",
    "hist = model.fit(input_train, label_train, batch_size=500, epochs=20, validation_data=(input_test, label_test),\n",
    "                callbacks=[early_stopping])\n",
    "\n",
    "loss, score = model.evaluate(input_test, label_test)\n",
    "s8=score\n",
    "print('model accuracy:{}'.format(score))"
   ]
  },
  {
   "cell_type": "code",
   "execution_count": 16,
   "metadata": {},
   "outputs": [
    {
     "name": "stdout",
     "output_type": "stream",
     "text": [
      "Train on 110782 samples, validate on 12310 samples\n",
      "110782/110782 [==============================] - 312s 3ms/sample - loss: 0.4368 - acc: 0.7936 - val_loss: 0.3931 - val_acc: 0.8223\n",
      "12310/12310 [==============================] - 2s 190us/sample - loss: 0.3931 - acc: 0.8223\n",
      "model accuracy:0.8222583532333374\n"
     ]
    }
   ],
   "source": [
    "model = tf.keras.Sequential([\n",
    "    tf.keras.layers.Embedding(max_features, embedding_size),\n",
    "    tf.keras.layers.Bidirectional(tf.keras.layers.GRU(8, activation = 'tanh', return_sequences = True, dropout=0.05)),\n",
    "    tf.keras.layers.GlobalMaxPool1D(),\n",
    "    tf.keras.layers.Dense(1, activation = 'sigmoid'),\n",
    "    ])\n",
    "\n",
    "model.compile(optimizer = 'adam', loss = 'binary_crossentropy', metrics=['acc'])\n",
    "\n",
    "early_stopping = EarlyStopping(monitor='val_acc', min_delta=0, patience=0, verbose=2, mode='auto')\n",
    "\n",
    "hist = model.fit(input_train, label_train, batch_size=35, epochs=1, validation_data=(input_test, label_test),\n",
    "                callbacks=[early_stopping])\n",
    "\n",
    "loss, score = model.evaluate(input_test, label_test)\n",
    "\n",
    "print('model accuracy:{}'.format(score))"
   ]
  },
  {
   "cell_type": "code",
   "execution_count": 15,
   "metadata": {},
   "outputs": [
    {
     "name": "stdout",
     "output_type": "stream",
     "text": [
      "Train on 110782 samples, validate on 12310 samples\n",
      "110782/110782 [==============================] - 246s 2ms/sample - loss: 0.4400 - acc: 0.7916 - val_loss: 0.3973 - val_acc: 0.8204\n",
      "12310/12310 [==============================] - 2s 190us/sample - loss: 0.3973 - acc: 0.8204\n",
      "model accuracy:0.8203899264335632\n"
     ]
    }
   ],
   "source": [
    "# CNN + BiRNN(Bidirectional RNN), LSTM\n",
    "\n",
    "model = tf.keras.Sequential([\n",
    "    tf.keras.layers.Embedding(max_features, embedding_size),\n",
    "    tf.keras.layers.Bidirectional(tf.keras.layers.LSTM(8, activation = tf.nn.relu,return_sequences = True)),\n",
    "    tf.keras.layers.GlobalMaxPool1D(),\n",
    "    tf.keras.layers.Lambda(expand_dim),\n",
    "    tf.keras.layers.Lambda(conv),\n",
    "    tf.keras.layers.Flatten(),\n",
    "    tf.keras.layers.Dense(1, activation = tf.nn.sigmoid),\n",
    "    ])\n",
    "\n",
    "model.compile(optimizer = 'adam', loss = 'binary_crossentropy', metrics=['acc'])\n",
    "\n",
    "early_stopping = EarlyStopping(monitor='val_acc', min_delta=0, patience=0, verbose=2, mode='auto')\n",
    "\n",
    "hist = model.fit(input_train, label_train, batch_size=45, epochs=1, validation_data=(input_test, label_test),\n",
    "                callbacks=[early_stopping])\n",
    "\n",
    "loss, score = model.evaluate(input_test, label_test)\n",
    "s7=score\n",
    "print('model accuracy:{}'.format(score))"
   ]
  },
  {
   "cell_type": "code",
   "execution_count": 51,
   "metadata": {},
   "outputs": [
    {
     "data": {
      "image/png": "[encoded data removed]",
      "text/plain": [
       "<Figure size 432x288 with 2 Axes>"
      ]
     },
     "metadata": {
      "needs_background": "light"
     },
     "output_type": "display_data"
    }
   ],
   "source": [
    "# 5. 모델 학습 과정 표시하기\n",
    "%matplotlib inline\n",
    "import matplotlib.pyplot as plt\n",
    "\n",
    "fig, loss_ax = plt.subplots()\n",
    "\n",
    "acc_ax = loss_ax.twinx()\n",
    "\n",
    "loss_ax.plot(hist.history['loss'], 'y', label='train loss')\n",
    "loss_ax.plot(hist.history['val_loss'], 'r', label='val loss')\n",
    "\n",
    "acc_ax.plot(hist.history['acc'], 'b', label='train acc')\n",
    "acc_ax.plot(hist.history['val_acc'], 'g', label='val acc')\n",
    "\n",
    "loss_ax.set_xlabel('epoch')\n",
    "loss_ax.set_ylabel('loss')\n",
    "acc_ax.set_ylabel('accuray')\n",
    "\n",
    "loss_ax.legend(loc='upper left')\n",
    "acc_ax.legend(loc='lower left')\n",
    "\n",
    "plt.show()"
   ]
  },
  {
   "cell_type": "code",
   "execution_count": 52,
   "metadata": {},
   "outputs": [],
   "source": [
    "model_json = model.to_json()\n",
    "with open(\"model.json\", \"w\") as json_file : \n",
    "    json_file.write(model_json)"
   ]
  },
  {
   "cell_type": "code",
   "execution_count": 53,
   "metadata": {},
   "outputs": [
    {
     "name": "stdout",
     "output_type": "stream",
     "text": [
      "Saved model to disk\n"
     ]
    }
   ],
   "source": [
    "model.save_weights(\"model.h5\")\n",
    "print(\"Saved model to disk\")"
   ]
  },
  {
   "cell_type": "code",
   "execution_count": 115,
   "metadata": {},
   "outputs": [
    {
     "name": "stdout",
     "output_type": "stream",
     "text": [
      "Collecting keras\n",
      "  Downloading https://files.pythonhosted.org/packages/ad/fd/6bfe87920d7f4fd475acd28500a42482b6b84479832bdc0fe9e589a60ceb/Keras-2.3.1-py2.py3-none-any.whl (377kB)\n",
      "Requirement already satisfied: h5py in c:\\users\\user\\anaconda3\\lib\\site-packages (from keras) (2.9.0)\n",
      "Requirement already satisfied: keras-preprocessing>=1.0.5 in c:\\users\\user\\anaconda3\\lib\\site-packages (from keras) (1.1.0)\n",
      "Requirement already satisfied: scipy>=0.14 in c:\\users\\user\\anaconda3\\lib\\site-packages (from keras) (1.3.1)\n",
      "Requirement already satisfied: numpy>=1.9.1 in c:\\users\\user\\anaconda3\\lib\\site-packages (from keras) (1.17.2)\n",
      "Requirement already satisfied: pyyaml in c:\\users\\user\\anaconda3\\lib\\site-packages (from keras) (5.1.2)\n",
      "Requirement already satisfied: six>=1.9.0 in c:\\users\\user\\anaconda3\\lib\\site-packages (from keras) (1.12.0)\n",
      "Requirement already satisfied: keras-applications>=1.0.6 in c:\\users\\user\\anaconda3\\lib\\site-packages (from keras) (1.0.8)\n",
      "Installing collected packages: keras\n",
      "Successfully installed keras-2.3.1\n"
     ]
    }
   ],
   "source": [
    "!pip install keras"
   ]
  },
  {
   "cell_type": "code",
   "execution_count": null,
   "metadata": {},
   "outputs": [],
   "source": []
  }
 ],
 "metadata": {
  "kernelspec": {
   "display_name": "Python 3",
   "language": "python",
   "name": "python3"
  },
  "language_info": {
   "codemirror_mode": {
    "name": "ipython",
    "version": 3
   },
   "file_extension": ".py",
   "mimetype": "text/x-python",
   "name": "python",
   "nbconvert_exporter": "python",
   "pygments_lexer": "ipython3",
   "version": "3.6.9"
  }
 },
 "nbformat": 4,
 "nbformat_minor": 2
}
